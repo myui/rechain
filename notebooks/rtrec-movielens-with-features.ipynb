{
 "cells": [
  {
   "cell_type": "code",
   "execution_count": 67,
   "id": "ee5938c7",
   "metadata": {},
   "outputs": [
    {
     "name": "stdout",
     "output_type": "stream",
     "text": [
      "The autoreload extension is already loaded. To reload it, use:\n",
      "  %reload_ext autoreload\n"
     ]
    }
   ],
   "source": [
    "%load_ext autoreload\n",
    "%autoreload 2"
   ]
  },
  {
   "cell_type": "code",
   "execution_count": 68,
   "id": "72777efd",
   "metadata": {},
   "outputs": [],
   "source": [
    "import sys\n",
    "\n",
    "sys.path.append(\"/home/td-user/rtrec\")"
   ]
  },
  {
   "cell_type": "code",
   "execution_count": 69,
   "id": "760976c5",
   "metadata": {},
   "outputs": [
    {
     "name": "stdout",
     "output_type": "stream",
     "text": [
      "Using existing ratings.dat file.\n"
     ]
    }
   ],
   "source": [
    "from rtrec.experiments.datasets import load_movielens\n",
    "\n",
    "df = load_movielens(dataset_scale='1m', load_user_attributes=True, load_item_attributes=True)"
   ]
  },
  {
   "cell_type": "code",
   "execution_count": 70,
   "id": "922f19b0-917c-4047-ba67-8e1133889584",
   "metadata": {},
   "outputs": [],
   "source": [
    "from rtrec.experiments.split import temporal_user_split\n",
    "train_df, test_df = temporal_user_split(df)"
   ]
  },
  {
   "cell_type": "markdown",
   "id": "6881a8ca-ed3f-46b1-9b0c-6ba842a127dd",
   "metadata": {},
   "source": [
    "# With user/item features"
   ]
  },
  {
   "cell_type": "code",
   "execution_count": 71,
   "id": "501d69f7-42dd-4df6-ac23-882fda8e5eb4",
   "metadata": {},
   "outputs": [],
   "source": [
    "user_tags = train_df.loc[train_df.groupby('user')['tstamp'].idxmax()][['user', 'gender', 'age', 'occupation', 'zip_code']].set_index('user').apply(\n",
    "    lambda row: {f\"gender#{row['gender']}\", f\"age#{row['age']}\", f\"occupation#{row['occupation']}\", f\"zipcode#{row['zip_code']}\"},\n",
    "    axis=1\n",
    ").to_dict()"
   ]
  },
  {
   "cell_type": "code",
   "execution_count": 72,
   "id": "5e7a14a5-6ab4-4780-ae07-74f8790de43c",
   "metadata": {},
   "outputs": [],
   "source": [
    "item_tags = (\n",
    "    train_df.groupby(\"item\")[\"genres\"]\n",
    "    .apply(lambda genres: set(f\"genre#{tag}\" for genre_list in genres for tag in genre_list.split('|')))\n",
    "    .to_dict()\n",
    ")"
   ]
  },
  {
   "cell_type": "code",
   "execution_count": 73,
   "id": "d87a7c51-f2d1-453a-aa5d-f2b9ad024387",
   "metadata": {},
   "outputs": [],
   "source": [
    "from rtrec.recommender import Recommender\n",
    "from rtrec.models import LightFM\n",
    "\n",
    "model = LightFM(no_components=10, loss=\"warp\", epochs=20, item_alpha=0, user_alpha=0)\n",
    "recommender = Recommender(model)"
   ]
  },
  {
   "cell_type": "code",
   "execution_count": 74,
   "id": "05e10079-875c-4ffd-a4a8-60b19a93b2d6",
   "metadata": {},
   "outputs": [
    {
     "name": "stderr",
     "output_type": "stream",
     "text": [
      "Register user features:   0%|          | 0/6040 [00:00<?, ?it/s]\n"
     ]
    },
    {
     "ename": "NameError",
     "evalue": "name 'bisect_left' is not defined",
     "output_type": "error",
     "traceback": [
      "\u001b[0;31m---------------------------------------------------------------------------\u001b[0m",
      "\u001b[0;31mNameError\u001b[0m                                 Traceback (most recent call last)",
      "Cell \u001b[0;32mIn[74], line 1\u001b[0m\n\u001b[0;32m----> 1\u001b[0m \u001b[43mrecommender\u001b[49m\u001b[38;5;241;43m.\u001b[39;49m\u001b[43mbulk_fit\u001b[49m\u001b[43m(\u001b[49m\u001b[43mtrain_df\u001b[49m\u001b[43m,\u001b[49m\u001b[43m \u001b[49m\u001b[43muser_tags\u001b[49m\u001b[38;5;241;43m=\u001b[39;49m\u001b[43muser_tags\u001b[49m\u001b[43m,\u001b[49m\u001b[43m \u001b[49m\u001b[43mitem_tags\u001b[49m\u001b[38;5;241;43m=\u001b[39;49m\u001b[43mitem_tags\u001b[49m\u001b[43m)\u001b[49m\n",
      "File \u001b[0;32m~/rtrec/rtrec/recommender.py:93\u001b[0m, in \u001b[0;36mRecommender.bulk_fit\u001b[0;34m(self, train_data, user_tags, item_tags, batch_size, update_interaction, parallel)\u001b[0m\n\u001b[1;32m     91\u001b[0m \u001b[38;5;28;01mif\u001b[39;00m user_tags:\n\u001b[1;32m     92\u001b[0m     \u001b[38;5;28;01mfor\u001b[39;00m user, tags \u001b[38;5;129;01min\u001b[39;00m tqdm(user_tags\u001b[38;5;241m.\u001b[39mitems(), desc\u001b[38;5;241m=\u001b[39m\u001b[38;5;124m\"\u001b[39m\u001b[38;5;124mRegister user features\u001b[39m\u001b[38;5;124m\"\u001b[39m):\n\u001b[0;32m---> 93\u001b[0m         \u001b[38;5;28;43mself\u001b[39;49m\u001b[38;5;241;43m.\u001b[39;49m\u001b[43mmodel\u001b[49m\u001b[38;5;241;43m.\u001b[39;49m\u001b[43mregister_user_feature\u001b[49m\u001b[43m(\u001b[49m\u001b[43muser\u001b[49m\u001b[43m,\u001b[49m\u001b[43m \u001b[49m\u001b[43mtags\u001b[49m\u001b[43m)\u001b[49m\n\u001b[1;32m     94\u001b[0m \u001b[38;5;28;01mif\u001b[39;00m item_tags:\n\u001b[1;32m     95\u001b[0m     \u001b[38;5;28;01mfor\u001b[39;00m item, tags \u001b[38;5;129;01min\u001b[39;00m tqdm(item_tags\u001b[38;5;241m.\u001b[39mitems(), desc\u001b[38;5;241m=\u001b[39m\u001b[38;5;124m\"\u001b[39m\u001b[38;5;124mRegister item features\u001b[39m\u001b[38;5;124m\"\u001b[39m):\n",
      "File \u001b[0;32m~/rtrec/rtrec/models/base.py:34\u001b[0m, in \u001b[0;36mBaseModel.register_user_feature\u001b[0;34m(self, user, user_tags)\u001b[0m\n\u001b[1;32m     27\u001b[0m \u001b[38;5;250m\u001b[39m\u001b[38;5;124;03m\"\"\"\u001b[39;00m\n\u001b[1;32m     28\u001b[0m \u001b[38;5;124;03mRegister user features in the feature store.\u001b[39;00m\n\u001b[1;32m     29\u001b[0m \u001b[38;5;124;03m:param user: User to register features for\u001b[39;00m\n\u001b[1;32m     30\u001b[0m \u001b[38;5;124;03m:param user_tags: List of user features\u001b[39;00m\n\u001b[1;32m     31\u001b[0m \u001b[38;5;124;03m:return: User index\u001b[39;00m\n\u001b[1;32m     32\u001b[0m \u001b[38;5;124;03m\"\"\"\u001b[39;00m\n\u001b[1;32m     33\u001b[0m user_id \u001b[38;5;241m=\u001b[39m \u001b[38;5;28mself\u001b[39m\u001b[38;5;241m.\u001b[39muser_ids\u001b[38;5;241m.\u001b[39midentify(user)\n\u001b[0;32m---> 34\u001b[0m \u001b[38;5;28;43mself\u001b[39;49m\u001b[38;5;241;43m.\u001b[39;49m\u001b[43mfeature_store\u001b[49m\u001b[38;5;241;43m.\u001b[39;49m\u001b[43mput_user_features\u001b[49m\u001b[43m(\u001b[49m\u001b[43muser_id\u001b[49m\u001b[43m,\u001b[49m\u001b[43m \u001b[49m\u001b[43muser_tags\u001b[49m\u001b[43m)\u001b[49m\n\u001b[1;32m     35\u001b[0m \u001b[38;5;28;01mreturn\u001b[39;00m user_id\n",
      "File \u001b[0;32m~/rtrec/rtrec/utils/features.py:52\u001b[0m, in \u001b[0;36mFeatureStore.put_user_features\u001b[0;34m(self, user_id, user_tags, append)\u001b[0m\n\u001b[1;32m     50\u001b[0m user_feature_ids \u001b[38;5;241m=\u001b[39m \u001b[38;5;28mself\u001b[39m\u001b[38;5;241m.\u001b[39muser_feature_map\u001b[38;5;241m.\u001b[39mget(user_id, []) \u001b[38;5;28;01mif\u001b[39;00m append \u001b[38;5;28;01melse\u001b[39;00m []\n\u001b[1;32m     51\u001b[0m \u001b[38;5;28;01mfor\u001b[39;00m tag \u001b[38;5;129;01min\u001b[39;00m user_tags:\n\u001b[0;32m---> 52\u001b[0m     tag_id \u001b[38;5;241m=\u001b[39m \u001b[38;5;28;43mself\u001b[39;49m\u001b[38;5;241;43m.\u001b[39;49m\u001b[43muser_features\u001b[49m\u001b[38;5;241;43m.\u001b[39;49m\u001b[43madd\u001b[49m\u001b[43m(\u001b[49m\u001b[43mtag\u001b[49m\u001b[43m)\u001b[49m\n\u001b[1;32m     53\u001b[0m     \u001b[38;5;28;01mif\u001b[39;00m tag_id \u001b[38;5;129;01mnot\u001b[39;00m \u001b[38;5;129;01min\u001b[39;00m user_feature_ids:\n\u001b[1;32m     54\u001b[0m         user_feature_ids\u001b[38;5;241m.\u001b[39mappend(tag_id)\n",
      "File \u001b[0;32m~/rtrec/rtrec/utils/collections.py:25\u001b[0m, in \u001b[0;36madd\u001b[0;34m(self, item)\u001b[0m\n\u001b[1;32m     18\u001b[0m \u001b[38;5;28;01mdef\u001b[39;00m \u001b[38;5;21madd\u001b[39m(\u001b[38;5;28mself\u001b[39m, key: T) \u001b[38;5;241m-\u001b[39m\u001b[38;5;241m>\u001b[39m \u001b[38;5;28mint\u001b[39m:\n\u001b[1;32m     19\u001b[0m \u001b[38;5;250m    \u001b[39m\u001b[38;5;124;03m\"\"\"\u001b[39;00m\n\u001b[1;32m     20\u001b[0m \u001b[38;5;124;03m    Adds a unique key to the set and returns its index.\u001b[39;00m\n\u001b[1;32m     21\u001b[0m \n\u001b[1;32m     22\u001b[0m \u001b[38;5;124;03m    Args:\u001b[39;00m\n\u001b[1;32m     23\u001b[0m \u001b[38;5;124;03m        key: The key to add.\u001b[39;00m\n\u001b[1;32m     24\u001b[0m \n\u001b[0;32m---> 25\u001b[0m \u001b[38;5;124;03m    Returns:\u001b[39;00m\n\u001b[1;32m     26\u001b[0m \u001b[38;5;124;03m        int: The index of the key.\u001b[39;00m\n\u001b[1;32m     27\u001b[0m \u001b[38;5;124;03m    \"\"\"\u001b[39;00m\n\u001b[1;32m     28\u001b[0m     \u001b[38;5;28;01mif\u001b[39;00m key \u001b[38;5;129;01mnot\u001b[39;00m \u001b[38;5;129;01min\u001b[39;00m \u001b[38;5;28mself\u001b[39m\u001b[38;5;241m.\u001b[39m_key_to_index:\n\u001b[1;32m     29\u001b[0m         \u001b[38;5;66;03m# Assign the next available index to the key\u001b[39;00m\n\u001b[1;32m     30\u001b[0m         index \u001b[38;5;241m=\u001b[39m \u001b[38;5;28mlen\u001b[39m(\u001b[38;5;28mself\u001b[39m\u001b[38;5;241m.\u001b[39m_index_to_key)\n",
      "\u001b[0;31mNameError\u001b[0m: name 'bisect_left' is not defined"
     ]
    }
   ],
   "source": [
    "recommender.bulk_fit(train_df, user_tags=user_tags, item_tags=item_tags)"
   ]
  },
  {
   "cell_type": "code",
   "execution_count": 45,
   "id": "49ad7e5c-196d-466a-80db-5d386d3d3e13",
   "metadata": {},
   "outputs": [
    {
     "name": "stderr",
     "output_type": "stream",
     "text": [
      "100%|██████████| 61/61 [00:01<00:00, 50.89it/s]\n"
     ]
    },
    {
     "data": {
      "text/plain": [
       "{'precision': 0.12948675496689188,\n",
       " 'recall': 0.05974662783556531,\n",
       " 'f1': 0.06768103547513246,\n",
       " 'ndcg': 0.1424585923224094,\n",
       " 'hit_rate': 0.5869205298013245,\n",
       " 'mrr': 0.28460258330705224,\n",
       " 'map': 0.07115220559188869,\n",
       " 'tp': 7821,\n",
       " 'auc': 0.3257905169242095}"
      ]
     },
     "execution_count": 45,
     "metadata": {},
     "output_type": "execute_result"
    }
   ],
   "source": [
    "recommender.evaluate(test_df, recommend_size=10, filter_interacted=True)"
   ]
  },
  {
   "cell_type": "code",
   "execution_count": 46,
   "id": "10d08408-e3c3-470c-8a7c-7786af0d122d",
   "metadata": {},
   "outputs": [],
   "source": [
    "test_user_tags = test_df.loc[test_df.groupby('user')['tstamp'].idxmax()][['user', 'gender', 'age', 'occupation', 'zip_code']].set_index('user').apply(\n",
    "    lambda row: {f\"gender#{row['gender']}\", f\"age#{row['age']}\", f\"occupation#{row['occupation']}\", f\"zipcode#{row['zip_code']}\"},\n",
    "    axis=1\n",
    ").to_dict()"
   ]
  },
  {
   "cell_type": "code",
   "execution_count": 47,
   "id": "9d9babe0-84f8-49af-96b4-569b5e9312cb",
   "metadata": {},
   "outputs": [
    {
     "name": "stderr",
     "output_type": "stream",
     "text": [
      "100%|██████████| 61/61 [23:26<00:00, 23.06s/it]    \n"
     ]
    },
    {
     "data": {
      "text/plain": [
       "{'precision': 0.12521523178808316,\n",
       " 'recall': 0.05411691934082677,\n",
       " 'f1': 0.06254158825497853,\n",
       " 'ndcg': 0.13621627077049822,\n",
       " 'hit_rate': 0.562748344370861,\n",
       " 'mrr': 0.2687613003258695,\n",
       " 'map': 0.06833874981958692,\n",
       " 'tp': 7563,\n",
       " 'auc': 0.30493160674865966}"
      ]
     },
     "execution_count": 47,
     "metadata": {},
     "output_type": "execute_result"
    }
   ],
   "source": [
    "recommender.evaluate(test_df, user_tags=user_tags, recommend_size=10, filter_interacted=True)"
   ]
  },
  {
   "cell_type": "code",
   "execution_count": 14,
   "id": "33f1f11e-f55d-49b4-8ce7-82d54da3d185",
   "metadata": {},
   "outputs": [],
   "source": [
    "users = test_df['user'].unique()"
   ]
  },
  {
   "cell_type": "code",
   "execution_count": 15,
   "id": "8b45bef4-c330-4968-9888-032e692248d8",
   "metadata": {},
   "outputs": [],
   "source": [
    "for u in users:\n",
    "    assert user_tags.pop(u) != None"
   ]
  },
  {
   "cell_type": "markdown",
   "id": "bafb542e-423d-4381-b790-5ce45ee6dd3c",
   "metadata": {},
   "source": [
    "# Without user/item features"
   ]
  },
  {
   "cell_type": "code",
   "execution_count": null,
   "id": "1e55d013-7a57-4371-981a-618e54fa9498",
   "metadata": {},
   "outputs": [],
   "source": [
    "from rtrec.recommender import Recommender\n",
    "from rtrec.models import LightFM\n",
    "\n",
    "model = LightFM(no_components=10, loss=\"warp\", epochs=20, item_alpha=0, user_alpha=0)\n",
    "recommender = Recommender(model)"
   ]
  },
  {
   "cell_type": "code",
   "execution_count": null,
   "id": "23670ccf-5eba-4bb9-936a-212173b7c6a9",
   "metadata": {},
   "outputs": [],
   "source": [
    "recommender.bulk_fit(train_df)"
   ]
  },
  {
   "cell_type": "code",
   "execution_count": null,
   "id": "9e925959-4add-4cd8-81ae-6a36fb5de8a1",
   "metadata": {},
   "outputs": [],
   "source": [
    "recommender.evaluate(test_df, recommend_size=10, filter_interacted=True)"
   ]
  },
  {
   "cell_type": "code",
   "execution_count": null,
   "id": "4cef904a-1b30-4c8e-b8e2-fd7390395883",
   "metadata": {},
   "outputs": [],
   "source": []
  }
 ],
 "metadata": {
  "kernelspec": {
   "display_name": ".venv",
   "language": "python",
   "name": "python3"
  },
  "language_info": {
   "codemirror_mode": {
    "name": "ipython",
    "version": 3
   },
   "file_extension": ".py",
   "mimetype": "text/x-python",
   "name": "python",
   "nbconvert_exporter": "python",
   "pygments_lexer": "ipython3",
   "version": "3.12.8"
  }
 },
 "nbformat": 4,
 "nbformat_minor": 5
}
