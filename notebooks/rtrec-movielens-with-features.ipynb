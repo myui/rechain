{
 "cells": [
  {
   "cell_type": "code",
   "execution_count": 1,
   "id": "ee5938c7",
   "metadata": {},
   "outputs": [],
   "source": [
    "%load_ext autoreload\n",
    "%autoreload 2"
   ]
  },
  {
   "cell_type": "code",
   "execution_count": 2,
   "id": "72777efd",
   "metadata": {},
   "outputs": [],
   "source": [
    "import sys\n",
    "\n",
    "sys.path.append(\"/home/td-user/rtrec\")"
   ]
  },
  {
   "cell_type": "code",
   "execution_count": 3,
   "id": "760976c5",
   "metadata": {},
   "outputs": [
    {
     "name": "stdout",
     "output_type": "stream",
     "text": [
      "Using existing ratings.dat file.\n"
     ]
    }
   ],
   "source": [
    "from rtrec.experiments.datasets import load_movielens\n",
    "\n",
    "df = load_movielens(dataset_scale='1m', load_user_attributes=True, load_item_attributes=True)"
   ]
  },
  {
   "cell_type": "code",
   "execution_count": 4,
   "id": "922f19b0-917c-4047-ba67-8e1133889584",
   "metadata": {},
   "outputs": [],
   "source": [
    "from rtrec.experiments.split import temporal_user_split\n",
    "train_df, test_df = temporal_user_split(df)"
   ]
  },
  {
   "cell_type": "markdown",
   "id": "6881a8ca-ed3f-46b1-9b0c-6ba842a127dd",
   "metadata": {},
   "source": [
    "# With user/item features"
   ]
  },
  {
   "cell_type": "code",
   "execution_count": 5,
   "id": "501d69f7-42dd-4df6-ac23-882fda8e5eb4",
   "metadata": {},
   "outputs": [],
   "source": [
    "user_tags = train_df.loc[train_df.groupby('user')['tstamp'].idxmax()][['user', 'gender', 'age', 'occupation', 'zip_code']].set_index('user').apply(\n",
    "    lambda row: {f\"gender#{row['gender']}\", f\"age#{row['age']}\", f\"occupation#{row['occupation']}\", f\"zipcode#{row['zip_code']}\"},\n",
    "    axis=1\n",
    ").to_dict()"
   ]
  },
  {
   "cell_type": "code",
   "execution_count": 6,
   "id": "5e7a14a5-6ab4-4780-ae07-74f8790de43c",
   "metadata": {},
   "outputs": [],
   "source": [
    "item_tags = (\n",
    "    train_df.groupby(\"item\")[\"genres\"]\n",
    "    .apply(lambda genres: set(f\"genre#{tag}\" for genre_list in genres for tag in genre_list.split('|')))\n",
    "    .to_dict()\n",
    ")"
   ]
  },
  {
   "cell_type": "code",
   "execution_count": 7,
   "id": "d87a7c51-f2d1-453a-aa5d-f2b9ad024387",
   "metadata": {},
   "outputs": [
    {
     "name": "stderr",
     "output_type": "stream",
     "text": [
      "/home/td-user/rtrec/.venv/lib/python3.12/site-packages/tqdm/auto.py:21: TqdmWarning: IProgress not found. Please update jupyter and ipywidgets. See https://ipywidgets.readthedocs.io/en/stable/user_install.html\n",
      "  from .autonotebook import tqdm as notebook_tqdm\n"
     ]
    }
   ],
   "source": [
    "from rtrec.recommender import Recommender\n",
    "from rtrec.models import LightFM\n",
    "\n",
    "model = LightFM(no_components=10, loss=\"warp\", epochs=20, item_alpha=0, user_alpha=0)\n",
    "recommender = Recommender(model)"
   ]
  },
  {
   "cell_type": "code",
   "execution_count": 8,
   "id": "05e10079-875c-4ffd-a4a8-60b19a93b2d6",
   "metadata": {},
   "outputs": [
    {
     "name": "stderr",
     "output_type": "stream",
     "text": [
      "Register user features: 100%|██████████| 6040/6040 [00:00<00:00, 622233.04it/s]\n",
      "Register item features: 100%|██████████| 3667/3667 [00:00<00:00, 907726.20it/s]\n",
      "Add interactions: 100%|██████████| 798/798 [00:02<00:00, 323.54it/s]\n",
      "Epoch: 100%|██████████| 20/20 [00:13<00:00,  1.48it/s]"
     ]
    },
    {
     "name": "stdout",
     "output_type": "stream",
     "text": [
      "Fit completed in 16.36 seconds\n",
      "Throughput: 48750.84 samples/sec\n"
     ]
    },
    {
     "name": "stderr",
     "output_type": "stream",
     "text": [
      "\n"
     ]
    },
    {
     "data": {
      "text/plain": [
       "<rtrec.recommender.Recommender at 0xffff6d5f6840>"
      ]
     },
     "execution_count": 8,
     "metadata": {},
     "output_type": "execute_result"
    }
   ],
   "source": [
    "recommender.bulk_fit(train_df, user_tags=user_tags, item_tags=item_tags)"
   ]
  },
  {
   "cell_type": "code",
   "execution_count": 9,
   "id": "49ad7e5c-196d-466a-80db-5d386d3d3e13",
   "metadata": {},
   "outputs": [
    {
     "name": "stderr",
     "output_type": "stream",
     "text": [
      "100%|██████████| 61/61 [00:01<00:00, 52.52it/s]\n"
     ]
    },
    {
     "data": {
      "text/plain": [
       "{'precision': 0.12849337748344747,\n",
       " 'recall': 0.05983215239703983,\n",
       " 'f1': 0.06723581613869616,\n",
       " 'ndcg': 0.14178229831504563,\n",
       " 'hit_rate': 0.5821192052980132,\n",
       " 'mrr': 0.2845363581414893,\n",
       " 'map': 0.07076247486209367,\n",
       " 'tp': 7761,\n",
       " 'auc': 0.3242072361505315}"
      ]
     },
     "execution_count": 9,
     "metadata": {},
     "output_type": "execute_result"
    }
   ],
   "source": [
    "recommender.evaluate(test_df, recommend_size=10, filter_interacted=True)"
   ]
  },
  {
   "cell_type": "code",
   "execution_count": 10,
   "id": "4b58fdbe",
   "metadata": {},
   "outputs": [
    {
     "name": "stderr",
     "output_type": "stream",
     "text": [
      "100%|██████████| 61/61 [00:01<00:00, 60.40it/s]\n"
     ]
    },
    {
     "data": {
      "text/plain": [
       "{'precision': 0.12849337748344747,\n",
       " 'recall': 0.05983215239703983,\n",
       " 'f1': 0.06723581613869616,\n",
       " 'ndcg': 0.14178229831504563,\n",
       " 'hit_rate': 0.5821192052980132,\n",
       " 'mrr': 0.2845363581414893,\n",
       " 'map': 0.07076247486209367,\n",
       " 'tp': 7761,\n",
       " 'auc': 0.3242072361505315}"
      ]
     },
     "execution_count": 10,
     "metadata": {},
     "output_type": "execute_result"
    }
   ],
   "source": [
    "recommender.evaluate(test_df, user_tags=user_tags, recommend_size=10, filter_interacted=True)"
   ]
  },
  {
   "cell_type": "code",
   "execution_count": 11,
   "id": "10d08408-e3c3-470c-8a7c-7786af0d122d",
   "metadata": {},
   "outputs": [],
   "source": [
    "test_user_tags = test_df.loc[test_df.groupby('user')['tstamp'].idxmax()][['user', 'gender', 'age', 'occupation', 'zip_code']].set_index('user').apply(\n",
    "    lambda row: {f\"gender#{row['gender']}\", f\"age#{row['age']}\", f\"occupation#{row['occupation']}\", f\"zipcode#{row['zip_code']}\"},\n",
    "    axis=1\n",
    ").to_dict()"
   ]
  },
  {
   "cell_type": "code",
   "execution_count": 12,
   "id": "9d9babe0-84f8-49af-96b4-569b5e9312cb",
   "metadata": {},
   "outputs": [
    {
     "name": "stderr",
     "output_type": "stream",
     "text": [
      "100%|██████████| 61/61 [00:01<00:00, 59.73it/s]\n"
     ]
    },
    {
     "data": {
      "text/plain": [
       "{'precision': 0.12849337748344747,\n",
       " 'recall': 0.05983215239703983,\n",
       " 'f1': 0.06723581613869616,\n",
       " 'ndcg': 0.14178229831504563,\n",
       " 'hit_rate': 0.5821192052980132,\n",
       " 'mrr': 0.2845363581414893,\n",
       " 'map': 0.07076247486209367,\n",
       " 'tp': 7761,\n",
       " 'auc': 0.3242072361505315}"
      ]
     },
     "execution_count": 12,
     "metadata": {},
     "output_type": "execute_result"
    }
   ],
   "source": [
    "recommender.evaluate(test_df, user_tags=test_user_tags, recommend_size=10, filter_interacted=True)"
   ]
  },
  {
   "cell_type": "markdown",
   "id": "bafb542e-423d-4381-b790-5ce45ee6dd3c",
   "metadata": {},
   "source": [
    "# Without user/item features\n",
    "\n",
    "Confirm using user/item features shows a better result than this attempt."
   ]
  },
  {
   "cell_type": "code",
   "execution_count": 13,
   "id": "1e55d013-7a57-4371-981a-618e54fa9498",
   "metadata": {},
   "outputs": [],
   "source": [
    "from rtrec.recommender import Recommender\n",
    "from rtrec.models import LightFM\n",
    "\n",
    "model = LightFM(no_components=10, loss=\"warp\", epochs=20, item_alpha=0, user_alpha=0)\n",
    "recommender = Recommender(model)"
   ]
  },
  {
   "cell_type": "code",
   "execution_count": 14,
   "id": "23670ccf-5eba-4bb9-936a-212173b7c6a9",
   "metadata": {},
   "outputs": [
    {
     "name": "stderr",
     "output_type": "stream",
     "text": [
      "Add interactions: 100%|██████████| 798/798 [00:01<00:00, 401.29it/s]\n",
      "Epoch: 100%|██████████| 20/20 [00:08<00:00,  2.47it/s]"
     ]
    },
    {
     "name": "stdout",
     "output_type": "stream",
     "text": [
      "Fit completed in 10.42 seconds\n",
      "Throughput: 76568.95 samples/sec\n"
     ]
    },
    {
     "name": "stderr",
     "output_type": "stream",
     "text": [
      "\n"
     ]
    },
    {
     "data": {
      "text/plain": [
       "<rtrec.recommender.Recommender at 0xffff6c8d3560>"
      ]
     },
     "execution_count": 14,
     "metadata": {},
     "output_type": "execute_result"
    }
   ],
   "source": [
    "recommender.bulk_fit(train_df)"
   ]
  },
  {
   "cell_type": "code",
   "execution_count": 15,
   "id": "9e925959-4add-4cd8-81ae-6a36fb5de8a1",
   "metadata": {},
   "outputs": [
    {
     "name": "stderr",
     "output_type": "stream",
     "text": [
      "100%|██████████| 61/61 [00:00<00:00, 81.17it/s]\n"
     ]
    },
    {
     "data": {
      "text/plain": [
       "{'precision': 0.12908940397351368,\n",
       " 'recall': 0.060820811071732844,\n",
       " 'f1': 0.06797055190409505,\n",
       " 'ndcg': 0.14120548788972284,\n",
       " 'hit_rate': 0.5817880794701987,\n",
       " 'mrr': 0.2769639572164398,\n",
       " 'map': 0.07048572715970149,\n",
       " 'tp': 7797,\n",
       " 'auc': 0.3169937913907297}"
      ]
     },
     "execution_count": 15,
     "metadata": {},
     "output_type": "execute_result"
    }
   ],
   "source": [
    "recommender.evaluate(test_df, recommend_size=10, filter_interacted=True)"
   ]
  }
 ],
 "metadata": {
  "kernelspec": {
   "display_name": ".venv",
   "language": "python",
   "name": "python3"
  },
  "language_info": {
   "codemirror_mode": {
    "name": "ipython",
    "version": 3
   },
   "file_extension": ".py",
   "mimetype": "text/x-python",
   "name": "python",
   "nbconvert_exporter": "python",
   "pygments_lexer": "ipython3",
   "version": "3.12.8"
  }
 },
 "nbformat": 4,
 "nbformat_minor": 5
}
