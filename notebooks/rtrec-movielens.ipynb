{
 "cells": [
  {
   "cell_type": "code",
   "execution_count": 1,
   "id": "27cddd06-2fc7-4a96-aa57-226109f57442",
   "metadata": {},
   "outputs": [],
   "source": [
    "import sys\n",
    "\n",
    "sys.path.append(\"/home/td-user/rtrec\")"
   ]
  },
  {
   "cell_type": "markdown",
   "id": "07765c5e-6af2-47d7-8320-38dc269a7986",
   "metadata": {},
   "source": [
    "# Movielens 1M"
   ]
  },
  {
   "cell_type": "code",
   "execution_count": 2,
   "id": "827b4cc7-1f28-4e44-91e9-6d5cd8cde4dc",
   "metadata": {},
   "outputs": [
    {
     "name": "stdout",
     "output_type": "stream",
     "text": [
      "Using existing ratings.dat file.\n"
     ]
    }
   ],
   "source": [
    "from rtrec.experiments.datasets import load_dataset\n",
    "\n",
    "df = load_dataset(name='movielens_1m')"
   ]
  },
  {
   "cell_type": "code",
   "execution_count": 3,
   "id": "c89ffe93-0b31-4cac-a004-8ada940add7b",
   "metadata": {},
   "outputs": [
    {
     "data": {
      "text/html": [
       "<div>\n",
       "<style scoped>\n",
       "    .dataframe tbody tr th:only-of-type {\n",
       "        vertical-align: middle;\n",
       "    }\n",
       "\n",
       "    .dataframe tbody tr th {\n",
       "        vertical-align: top;\n",
       "    }\n",
       "\n",
       "    .dataframe thead th {\n",
       "        text-align: right;\n",
       "    }\n",
       "</style>\n",
       "<table border=\"1\" class=\"dataframe\">\n",
       "  <thead>\n",
       "    <tr style=\"text-align: right;\">\n",
       "      <th></th>\n",
       "      <th>user</th>\n",
       "      <th>item</th>\n",
       "      <th>tstamp</th>\n",
       "      <th>rating</th>\n",
       "    </tr>\n",
       "  </thead>\n",
       "  <tbody>\n",
       "    <tr>\n",
       "      <th>0</th>\n",
       "      <td>1</td>\n",
       "      <td>1193</td>\n",
       "      <td>978300760</td>\n",
       "      <td>5</td>\n",
       "    </tr>\n",
       "    <tr>\n",
       "      <th>1</th>\n",
       "      <td>1</td>\n",
       "      <td>661</td>\n",
       "      <td>978302109</td>\n",
       "      <td>3</td>\n",
       "    </tr>\n",
       "    <tr>\n",
       "      <th>2</th>\n",
       "      <td>1</td>\n",
       "      <td>914</td>\n",
       "      <td>978301968</td>\n",
       "      <td>3</td>\n",
       "    </tr>\n",
       "    <tr>\n",
       "      <th>3</th>\n",
       "      <td>1</td>\n",
       "      <td>3408</td>\n",
       "      <td>978300275</td>\n",
       "      <td>4</td>\n",
       "    </tr>\n",
       "    <tr>\n",
       "      <th>4</th>\n",
       "      <td>1</td>\n",
       "      <td>2355</td>\n",
       "      <td>978824291</td>\n",
       "      <td>5</td>\n",
       "    </tr>\n",
       "    <tr>\n",
       "      <th>...</th>\n",
       "      <td>...</td>\n",
       "      <td>...</td>\n",
       "      <td>...</td>\n",
       "      <td>...</td>\n",
       "    </tr>\n",
       "    <tr>\n",
       "      <th>1000204</th>\n",
       "      <td>6040</td>\n",
       "      <td>1091</td>\n",
       "      <td>956716541</td>\n",
       "      <td>1</td>\n",
       "    </tr>\n",
       "    <tr>\n",
       "      <th>1000205</th>\n",
       "      <td>6040</td>\n",
       "      <td>1094</td>\n",
       "      <td>956704887</td>\n",
       "      <td>5</td>\n",
       "    </tr>\n",
       "    <tr>\n",
       "      <th>1000206</th>\n",
       "      <td>6040</td>\n",
       "      <td>562</td>\n",
       "      <td>956704746</td>\n",
       "      <td>5</td>\n",
       "    </tr>\n",
       "    <tr>\n",
       "      <th>1000207</th>\n",
       "      <td>6040</td>\n",
       "      <td>1096</td>\n",
       "      <td>956715648</td>\n",
       "      <td>4</td>\n",
       "    </tr>\n",
       "    <tr>\n",
       "      <th>1000208</th>\n",
       "      <td>6040</td>\n",
       "      <td>1097</td>\n",
       "      <td>956715569</td>\n",
       "      <td>4</td>\n",
       "    </tr>\n",
       "  </tbody>\n",
       "</table>\n",
       "<p>1000209 rows × 4 columns</p>\n",
       "</div>"
      ],
      "text/plain": [
       "         user  item     tstamp  rating\n",
       "0           1  1193  978300760       5\n",
       "1           1   661  978302109       3\n",
       "2           1   914  978301968       3\n",
       "3           1  3408  978300275       4\n",
       "4           1  2355  978824291       5\n",
       "...       ...   ...        ...     ...\n",
       "1000204  6040  1091  956716541       1\n",
       "1000205  6040  1094  956704887       5\n",
       "1000206  6040   562  956704746       5\n",
       "1000207  6040  1096  956715648       4\n",
       "1000208  6040  1097  956715569       4\n",
       "\n",
       "[1000209 rows x 4 columns]"
      ]
     },
     "execution_count": 3,
     "metadata": {},
     "output_type": "execute_result"
    }
   ],
   "source": [
    "df[['user', 'item', 'tstamp', 'rating']]"
   ]
  },
  {
   "cell_type": "code",
   "execution_count": 4,
   "id": "aa0bfa94-4007-4295-81aa-6b55489139e3",
   "metadata": {},
   "outputs": [],
   "source": [
    "# from rtrec.experiments.split import leave_one_last_item\n",
    "# train_df, test_df = leave_one_last_item(df)\n",
    "\n",
    "from rtrec.experiments.split import temporal_user_split\n",
    "train_df, test_df = temporal_user_split(df)\n",
    "\n",
    "#from rtrec.experiments.split import random_split\n",
    "#train_df, test_df = random_split(df)"
   ]
  },
  {
   "cell_type": "code",
   "execution_count": 5,
   "id": "6a6f03d6-b204-4f71-adae-d190de5e37f8",
   "metadata": {},
   "outputs": [
    {
     "data": {
      "text/html": [
       "<div>\n",
       "<style scoped>\n",
       "    .dataframe tbody tr th:only-of-type {\n",
       "        vertical-align: middle;\n",
       "    }\n",
       "\n",
       "    .dataframe tbody tr th {\n",
       "        vertical-align: top;\n",
       "    }\n",
       "\n",
       "    .dataframe thead th {\n",
       "        text-align: right;\n",
       "    }\n",
       "</style>\n",
       "<table border=\"1\" class=\"dataframe\">\n",
       "  <thead>\n",
       "    <tr style=\"text-align: right;\">\n",
       "      <th></th>\n",
       "      <th>user</th>\n",
       "      <th>item</th>\n",
       "      <th>rating</th>\n",
       "      <th>tstamp</th>\n",
       "    </tr>\n",
       "  </thead>\n",
       "  <tbody>\n",
       "    <tr>\n",
       "      <th>0</th>\n",
       "      <td>6040</td>\n",
       "      <td>858</td>\n",
       "      <td>4</td>\n",
       "      <td>956703932</td>\n",
       "    </tr>\n",
       "    <tr>\n",
       "      <th>1</th>\n",
       "      <td>6040</td>\n",
       "      <td>593</td>\n",
       "      <td>5</td>\n",
       "      <td>956703954</td>\n",
       "    </tr>\n",
       "    <tr>\n",
       "      <th>2</th>\n",
       "      <td>6040</td>\n",
       "      <td>2384</td>\n",
       "      <td>4</td>\n",
       "      <td>956703954</td>\n",
       "    </tr>\n",
       "    <tr>\n",
       "      <th>3</th>\n",
       "      <td>6040</td>\n",
       "      <td>1961</td>\n",
       "      <td>4</td>\n",
       "      <td>956703977</td>\n",
       "    </tr>\n",
       "    <tr>\n",
       "      <th>4</th>\n",
       "      <td>6040</td>\n",
       "      <td>2019</td>\n",
       "      <td>5</td>\n",
       "      <td>956703977</td>\n",
       "    </tr>\n",
       "    <tr>\n",
       "      <th>...</th>\n",
       "      <td>...</td>\n",
       "      <td>...</td>\n",
       "      <td>...</td>\n",
       "      <td>...</td>\n",
       "    </tr>\n",
       "    <tr>\n",
       "      <th>797753</th>\n",
       "      <td>736</td>\n",
       "      <td>1278</td>\n",
       "      <td>4</td>\n",
       "      <td>1045711206</td>\n",
       "    </tr>\n",
       "    <tr>\n",
       "      <th>797754</th>\n",
       "      <td>736</td>\n",
       "      <td>3671</td>\n",
       "      <td>4</td>\n",
       "      <td>1045711217</td>\n",
       "    </tr>\n",
       "    <tr>\n",
       "      <th>797755</th>\n",
       "      <td>3840</td>\n",
       "      <td>1196</td>\n",
       "      <td>3</td>\n",
       "      <td>1046106127</td>\n",
       "    </tr>\n",
       "    <tr>\n",
       "      <th>797756</th>\n",
       "      <td>3840</td>\n",
       "      <td>1225</td>\n",
       "      <td>3</td>\n",
       "      <td>1046106162</td>\n",
       "    </tr>\n",
       "    <tr>\n",
       "      <th>797757</th>\n",
       "      <td>3840</td>\n",
       "      <td>2502</td>\n",
       "      <td>5</td>\n",
       "      <td>1046106198</td>\n",
       "    </tr>\n",
       "  </tbody>\n",
       "</table>\n",
       "<p>797758 rows × 4 columns</p>\n",
       "</div>"
      ],
      "text/plain": [
       "        user  item  rating      tstamp\n",
       "0       6040   858       4   956703932\n",
       "1       6040   593       5   956703954\n",
       "2       6040  2384       4   956703954\n",
       "3       6040  1961       4   956703977\n",
       "4       6040  2019       5   956703977\n",
       "...      ...   ...     ...         ...\n",
       "797753   736  1278       4  1045711206\n",
       "797754   736  3671       4  1045711217\n",
       "797755  3840  1196       3  1046106127\n",
       "797756  3840  1225       3  1046106162\n",
       "797757  3840  2502       5  1046106198\n",
       "\n",
       "[797758 rows x 4 columns]"
      ]
     },
     "execution_count": 5,
     "metadata": {},
     "output_type": "execute_result"
    }
   ],
   "source": [
    "train_df"
   ]
  },
  {
   "cell_type": "markdown",
   "id": "6b68f4f7-bef5-44b9-92f8-ace007d0adea",
   "metadata": {},
   "source": [
    "# SLIM (Sparse Linear Methods)"
   ]
  },
  {
   "cell_type": "code",
   "execution_count": 6,
   "id": "2fce7c8c-ba85-46aa-8af0-95abed71d265",
   "metadata": {},
   "outputs": [],
   "source": [
    "from rtrec.recommender import Recommender\n",
    "from rtrec.models import SLIM\n",
    "\n",
    "#model = SLIM()\n",
    "# nn_feature_selection is fast\n",
    "model = SLIM(nn_feature_selection=50) \n",
    "\n",
    "recommender = Recommender(model)"
   ]
  },
  {
   "cell_type": "code",
   "execution_count": 7,
   "id": "79f22c5e-c083-4b24-a6c5-f2fd0a3d47e7",
   "metadata": {},
   "outputs": [
    {
     "name": "stderr",
     "output_type": "stream",
     "text": [
      "Add interactions: 100%|██████████████████████████████████████████████████████████████████████████████████████████████████████████████████████████████████| 798/798 [00:01<00:00, 772.45it/s]\n",
      "Fitting SLIMElastic in parallel: 100%|██████████████████████████████████████████████████████████████████████████████████████████████████████████████████████| 39/39 [00:02<00:00, 13.48it/s]"
     ]
    },
    {
     "name": "stdout",
     "output_type": "stream",
     "text": [
      "Fit completed in 4.22 seconds\n",
      "Throughput: 188836.29 samples/sec\n"
     ]
    },
    {
     "name": "stderr",
     "output_type": "stream",
     "text": [
      "\n"
     ]
    },
    {
     "data": {
      "text/plain": [
       "<rtrec.recommender.Recommender at 0xffff428fd730>"
      ]
     },
     "execution_count": 7,
     "metadata": {},
     "output_type": "execute_result"
    }
   ],
   "source": [
    "recommender.bulk_fit(train_df)"
   ]
  },
  {
   "cell_type": "code",
   "execution_count": 8,
   "id": "6fcf1cf3-be44-434b-84af-2209e288cd67",
   "metadata": {},
   "outputs": [
    {
     "name": "stderr",
     "output_type": "stream",
     "text": [
      "100%|███████████████████████████████████████████████████████████████████████████████████████████████████████████████████████████████████████████████████████| 61/61 [00:03<00:00, 16.00it/s]\n"
     ]
    },
    {
     "data": {
      "text/plain": [
       "{'precision': 0.1315231788079517,\n",
       " 'recall': 0.06727778185897296,\n",
       " 'f1': 0.07272194516681163,\n",
       " 'ndcg': 0.1441684598606572,\n",
       " 'hit_rate': 0.6344370860927152,\n",
       " 'mrr': 0.28684267581204503,\n",
       " 'map': 0.06884614753891508,\n",
       " 'tp': 7944,\n",
       " 'auc': 0.3381075370545577}"
      ]
     },
     "execution_count": 8,
     "metadata": {},
     "output_type": "execute_result"
    }
   ],
   "source": [
    "recommender.evaluate(test_df, recommend_size=10, filter_interacted=True)"
   ]
  },
  {
   "cell_type": "code",
   "execution_count": 9,
   "id": "173585bc-b3a3-4942-8b49-9b5ab73653b5",
   "metadata": {},
   "outputs": [
    {
     "data": {
      "text/plain": [
       "[1136, 595, 260, 1035, 2797, 1304, 2406, 1259, 34, 3421]"
      ]
     },
     "execution_count": 9,
     "metadata": {},
     "output_type": "execute_result"
    }
   ],
   "source": [
    "recommender.model._recommend(10, top_k=10, filter_interacted=True)"
   ]
  },
  {
   "cell_type": "code",
   "execution_count": 10,
   "id": "8fc7958b-3a55-4c8d-8a0d-4bfdce86a496",
   "metadata": {},
   "outputs": [
    {
     "data": {
      "text/plain": [
       "[[(3114, 0.29662662744522095),\n",
       "  (588, 0.20735998451709747),\n",
       "  (2355, 0.1291930079460144),\n",
       "  (1265, 0.11021316796541214),\n",
       "  (1923, 0.0967392772436142),\n",
       "  (34, 0.08396875113248825)],\n",
       " [(588, 0.10645274072885513),\n",
       "  (3114, 0.10469543933868408),\n",
       "  (150, 0.10286545008420944),\n",
       "  (1, 0.08672025054693222),\n",
       "  (2396, 0.06297563016414642),\n",
       "  (1265, 0.0576939657330513)]]"
      ]
     },
     "execution_count": 10,
     "metadata": {},
     "output_type": "execute_result"
    }
   ],
   "source": [
    "recommender.similar_items(query_items=[1,34], top_k=6, ret_scores=True)"
   ]
  },
  {
   "cell_type": "markdown",
   "id": "f9c1259c-a295-40ba-8226-13530c055b6e",
   "metadata": {},
   "source": [
    "## test partial_fit"
   ]
  },
  {
   "cell_type": "code",
   "execution_count": 11,
   "id": "95230198-342e-4d37-8e0c-21c225455e04",
   "metadata": {},
   "outputs": [],
   "source": [
    "from rtrec.experiments.split import temporal_split\n",
    "\n",
    "test_df1, test_df2 = temporal_split(test_df, test_frac=0.5)"
   ]
  },
  {
   "cell_type": "code",
   "execution_count": 12,
   "id": "4006e492-dbae-40fb-a657-c9c434973784",
   "metadata": {},
   "outputs": [],
   "source": [
    "from rtrec.recommender import Recommender\n",
    "from rtrec.models import SLIM\n",
    "\n",
    "model = SLIM(nn_feature_selection=50)\n",
    "recommender = Recommender(model)"
   ]
  },
  {
   "cell_type": "code",
   "execution_count": 13,
   "id": "b683f810-9eed-4492-a2d4-c137e3a8c0b1",
   "metadata": {},
   "outputs": [
    {
     "name": "stderr",
     "output_type": "stream",
     "text": [
      "Add interactions: 100%|██████████████████████████████████████████████████████████████████████████████████████████████████████████████████████████████████| 798/798 [00:01<00:00, 739.90it/s]\n",
      "Fitting SLIMElastic in parallel: 100%|██████████████████████████████████████████████████████████████████████████████████████████████████████████████████████| 39/39 [00:02<00:00, 14.28it/s]"
     ]
    },
    {
     "name": "stdout",
     "output_type": "stream",
     "text": [
      "Fit completed in 4.06 seconds\n",
      "Throughput: 196483.47 samples/sec\n"
     ]
    },
    {
     "name": "stderr",
     "output_type": "stream",
     "text": [
      "\n"
     ]
    },
    {
     "data": {
      "text/plain": [
       "<rtrec.recommender.Recommender at 0xffff6738ef90>"
      ]
     },
     "execution_count": 13,
     "metadata": {},
     "output_type": "execute_result"
    }
   ],
   "source": [
    "recommender.bulk_fit(train_df, parallel=True)"
   ]
  },
  {
   "cell_type": "markdown",
   "id": "71d98765-6429-4288-a532-4f26539c9262",
   "metadata": {},
   "source": [
    "### Note test_df1 is not fit"
   ]
  },
  {
   "cell_type": "code",
   "execution_count": 14,
   "id": "afa4a9b1-9d94-444f-a1c8-5f49b89bd3f4",
   "metadata": {},
   "outputs": [
    {
     "name": "stderr",
     "output_type": "stream",
     "text": [
      "100%|███████████████████████████████████████████████████████████████████████████████████████████████████████████████████████████████████████████████████████| 29/29 [00:01<00:00, 14.55it/s]\n"
     ]
    },
    {
     "data": {
      "text/plain": [
       "{'precision': 0.14241342377722271,\n",
       " 'recall': 0.06719233160136066,\n",
       " 'f1': 0.07350512091203637,\n",
       " 'ndcg': 0.15608917056263985,\n",
       " 'hit_rate': 0.6494109246697608,\n",
       " 'mrr': 0.30375616984863724,\n",
       " 'map': 0.07689420160609235,\n",
       " 'tp': 3989,\n",
       " 'auc': 0.35208756226517735}"
      ]
     },
     "execution_count": 14,
     "metadata": {},
     "output_type": "execute_result"
    }
   ],
   "source": [
    "recommender.evaluate(test_df2, recommend_size=10, filter_interacted=True)"
   ]
  },
  {
   "cell_type": "markdown",
   "id": "7662b3e8-d443-44df-9afc-c163b1c0d91a",
   "metadata": {},
   "source": [
    "### Fit test_df1"
   ]
  },
  {
   "cell_type": "code",
   "execution_count": 15,
   "id": "f7924944-1a59-4381-9526-6ba3b3a1ee9f",
   "metadata": {},
   "outputs": [
    {
     "name": "stderr",
     "output_type": "stream",
     "text": [
      "Add interactions: 100%|██████████████████████████████████████████████████████████████████████████████████████████████████████████████████████████████████| 102/102 [00:00<00:00, 826.84it/s]\n",
      "Fitting SLIMElastic in parallel: 100%|██████████████████████████████████████████████████████████████████████████████████████████████████████████████████████| 39/39 [00:02<00:00, 14.84it/s]"
     ]
    },
    {
     "name": "stdout",
     "output_type": "stream",
     "text": [
      "Fit completed in 11.82 seconds\n",
      "Throughput: 8561.62 samples/sec\n"
     ]
    },
    {
     "name": "stderr",
     "output_type": "stream",
     "text": [
      "\n"
     ]
    },
    {
     "data": {
      "text/plain": [
       "<rtrec.recommender.Recommender at 0xffff6738ef90>"
      ]
     },
     "execution_count": 15,
     "metadata": {},
     "output_type": "execute_result"
    }
   ],
   "source": [
    "recommender.fit(test_df1, update_interaction=True, parallel=True)"
   ]
  },
  {
   "cell_type": "code",
   "execution_count": 16,
   "id": "f9eeb6b6-a6e0-4a03-99cf-8eaf0f8f7997",
   "metadata": {},
   "outputs": [
    {
     "name": "stderr",
     "output_type": "stream",
     "text": [
      "100%|███████████████████████████████████████████████████████████████████████████████████████████████████████████████████████████████████████████████████████| 29/29 [00:01<00:00, 14.59it/s]\n"
     ]
    },
    {
     "data": {
      "text/plain": [
       "{'precision': 0.1466262049268123,\n",
       " 'recall': 0.07084048165464216,\n",
       " 'f1': 0.07707137284633471,\n",
       " 'ndcg': 0.16124616189782442,\n",
       " 'hit_rate': 0.6626204926811853,\n",
       " 'mrr': 0.3156412392399544,\n",
       " 'map': 0.07940554155468894,\n",
       " 'tp': 4107,\n",
       " 'auc': 0.3584468557147956}"
      ]
     },
     "execution_count": 16,
     "metadata": {},
     "output_type": "execute_result"
    }
   ],
   "source": [
    "recommender.evaluate(test_df2, recommend_size=10, filter_interacted=True)"
   ]
  },
  {
   "cell_type": "markdown",
   "id": "fea00888-950c-4020-a5ed-8e6bfebae585",
   "metadata": {},
   "source": [
    "# LightFM (Factorization Machines)"
   ]
  },
  {
   "cell_type": "code",
   "execution_count": 17,
   "id": "2fa4b3f5-718b-4d48-9c3e-81dd7da1f66c",
   "metadata": {},
   "outputs": [],
   "source": [
    "from rtrec.models import LightFM\n",
    "\n",
    "model = LightFM(no_components=10, loss=\"warp\", epochs=20, item_alpha=0, user_alpha=0)\n",
    "recommender = Recommender(model)"
   ]
  },
  {
   "cell_type": "code",
   "execution_count": 18,
   "id": "0a1a4a92-4a92-46fa-bc49-ea162fd12f2f",
   "metadata": {},
   "outputs": [
    {
     "name": "stderr",
     "output_type": "stream",
     "text": [
      "Add interactions: 100%|██████████████████████████████████████████████████████████████████████████████████████████████████████████████████████████████████| 798/798 [00:01<00:00, 709.86it/s]\n",
      "Epoch: 100%|████████████████████████████████████████████████████████████████████████████████████████████████████████████████████████████████████████████████| 20/20 [00:04<00:00,  4.62it/s]"
     ]
    },
    {
     "name": "stdout",
     "output_type": "stream",
     "text": [
      "Fit completed in 5.65 seconds\n",
      "Throughput: 141294.48 samples/sec\n"
     ]
    },
    {
     "name": "stderr",
     "output_type": "stream",
     "text": [
      "\n"
     ]
    },
    {
     "data": {
      "text/plain": [
       "<rtrec.recommender.Recommender at 0xffff38265010>"
      ]
     },
     "execution_count": 18,
     "metadata": {},
     "output_type": "execute_result"
    }
   ],
   "source": [
    "recommender.bulk_fit(train_df)"
   ]
  },
  {
   "cell_type": "code",
   "execution_count": 19,
   "id": "fcefa4d0-29a4-471e-a7bf-30d99223e750",
   "metadata": {},
   "outputs": [
    {
     "name": "stderr",
     "output_type": "stream",
     "text": [
      "100%|██████████████████████████████████████████████████████████████████████████████████████████████████████████████████████████████████████████████████████| 61/61 [00:00<00:00, 146.68it/s]\n"
     ]
    },
    {
     "data": {
      "text/plain": [
       "{'precision': 0.1285596026490105,\n",
       " 'recall': 0.06061389976834402,\n",
       " 'f1': 0.06772276898292572,\n",
       " 'ndcg': 0.14118485098894368,\n",
       " 'hit_rate': 0.5731788079470199,\n",
       " 'mrr': 0.2761269447072417,\n",
       " 'map': 0.07123823876036796,\n",
       " 'tp': 7765,\n",
       " 'auc': 0.3117169202670039}"
      ]
     },
     "execution_count": 19,
     "metadata": {},
     "output_type": "execute_result"
    }
   ],
   "source": [
    "recommender.evaluate(test_df, recommend_size=10, filter_interacted=True)"
   ]
  },
  {
   "cell_type": "code",
   "execution_count": 20,
   "id": "f1a8ee48-b4d6-4896-84eb-873c6d5e8184",
   "metadata": {},
   "outputs": [
    {
     "data": {
      "text/plain": [
       "[2396, 2858, 34, 1, 912, 1265, 356, 318, 1196, 595]"
      ]
     },
     "execution_count": 20,
     "metadata": {},
     "output_type": "execute_result"
    }
   ],
   "source": [
    "recommender.model.recommend(1, top_k=10, filter_interacted=True)"
   ]
  },
  {
   "cell_type": "code",
   "execution_count": 21,
   "id": "ef4a42bf-c5ff-4b48-9510-9e670ec055a7",
   "metadata": {},
   "outputs": [
    {
     "data": {
      "text/plain": [
       "[[608, 527, 296, 858, 1617, 1094, 1704, 1674, 377, 912],\n",
       " [2396, 2858, 34, 1, 912, 1265, 356, 318, 1196, 595]]"
      ]
     },
     "execution_count": 21,
     "metadata": {},
     "output_type": "execute_result"
    }
   ],
   "source": [
    "recommender.model.recommend_batch([2, 1], top_k=10, filter_interacted=True)"
   ]
  },
  {
   "cell_type": "markdown",
   "id": "be6a5da2-5c7d-4878-a9fd-003dee87a06f",
   "metadata": {},
   "source": [
    "## test partial_fit\n",
    "\n",
    "### Note test_df1 is not fit yet"
   ]
  },
  {
   "cell_type": "code",
   "execution_count": 22,
   "id": "b8edc6ea-dff9-4f80-baae-10f9dbbf7b49",
   "metadata": {},
   "outputs": [
    {
     "name": "stderr",
     "output_type": "stream",
     "text": [
      "100%|██████████████████████████████████████████████████████████████████████████████████████████████████████████████████████████████████████████████████████| 29/29 [00:00<00:00, 139.05it/s]\n"
     ]
    },
    {
     "data": {
      "text/plain": [
       "{'precision': 0.14119957158157814,\n",
       " 'recall': 0.06112266854659811,\n",
       " 'f1': 0.06925533343820073,\n",
       " 'ndcg': 0.1549176622671443,\n",
       " 'hit_rate': 0.5894323455908604,\n",
       " 'mrr': 0.296775528014372,\n",
       " 'map': 0.0806901047604835,\n",
       " 'tp': 3955,\n",
       " 'auc': 0.32260533369601524}"
      ]
     },
     "execution_count": 22,
     "metadata": {},
     "output_type": "execute_result"
    }
   ],
   "source": [
    "recommender.evaluate(test_df2, recommend_size=10, filter_interacted=True)"
   ]
  },
  {
   "cell_type": "markdown",
   "id": "4c015d6e-29cd-409f-a206-dfa7632ff475",
   "metadata": {},
   "source": [
    "### Additionally Fit test_df1"
   ]
  },
  {
   "cell_type": "code",
   "execution_count": 23,
   "id": "5a40aea1-d26b-4f79-9064-2224652eaa05",
   "metadata": {},
   "outputs": [
    {
     "name": "stderr",
     "output_type": "stream",
     "text": [
      "Add interactions: 100%|██████████████████████████████████████████████████████████████████████████████████████████████████████████████████████████████████| 102/102 [00:00<00:00, 909.88it/s]\n",
      "Epoch: 100%|████████████████████████████████████████████████████████████████████████████████████████████████████████████████████████████████████████████████| 20/20 [00:02<00:00,  7.88it/s]"
     ]
    },
    {
     "name": "stdout",
     "output_type": "stream",
     "text": [
      "Fit completed in 3.09 seconds\n",
      "Throughput: 32735.11 samples/sec\n"
     ]
    },
    {
     "name": "stderr",
     "output_type": "stream",
     "text": [
      "\n"
     ]
    },
    {
     "data": {
      "text/plain": [
       "<rtrec.recommender.Recommender at 0xffff38265010>"
      ]
     },
     "execution_count": 23,
     "metadata": {},
     "output_type": "execute_result"
    }
   ],
   "source": [
    "recommender.fit(test_df1, update_interaction=True)"
   ]
  },
  {
   "cell_type": "code",
   "execution_count": 24,
   "id": "a8ef2c6c-7752-4c18-9517-7f9f39b3695d",
   "metadata": {},
   "outputs": [
    {
     "name": "stderr",
     "output_type": "stream",
     "text": [
      "100%|██████████████████████████████████████████████████████████████████████████████████████████████████████████████████████████████████████████████████████| 29/29 [00:00<00:00, 136.57it/s]\n"
     ]
    },
    {
     "data": {
      "text/plain": [
       "{'precision': 0.14412709746519126,\n",
       " 'recall': 0.06270188634892761,\n",
       " 'f1': 0.07095964371446573,\n",
       " 'ndcg': 0.15924445227381784,\n",
       " 'hit_rate': 0.5965726526240628,\n",
       " 'mrr': 0.3072118517762941,\n",
       " 'map': 0.08314182808141174,\n",
       " 'tp': 4037,\n",
       " 'auc': 0.33063747074457583}"
      ]
     },
     "execution_count": 24,
     "metadata": {},
     "output_type": "execute_result"
    }
   ],
   "source": [
    "recommender.evaluate(test_df2, recommend_size=10, filter_interacted=True)"
   ]
  },
  {
   "cell_type": "code",
   "execution_count": 25,
   "id": "c2d3bd62-b9ec-4390-bd51-22fe43e29d5e",
   "metadata": {},
   "outputs": [
    {
     "data": {
      "text/plain": [
       "[[(1265, 0.9445789456367493),\n",
       "  (34, 0.9333197474479675),\n",
       "  (588, 0.9140991568565369),\n",
       "  (551, 0.9022286534309387),\n",
       "  (2321, 0.8983737230300903),\n",
       "  (1197, 0.8969315886497498)],\n",
       " [(2396, 0.9361806511878967),\n",
       "  (1, 0.9333196878433228),\n",
       "  (1265, 0.9219970703125),\n",
       "  (356, 0.9039642214775085),\n",
       "  (39, 0.8852192759513855),\n",
       "  (2291, 0.8825164437294006)]]"
      ]
     },
     "execution_count": 25,
     "metadata": {},
     "output_type": "execute_result"
    }
   ],
   "source": [
    "recommender.similar_items(query_items=[1,34], top_k=6, ret_scores=True)"
   ]
  }
 ],
 "metadata": {
  "kernelspec": {
   "display_name": "Python 3 (ipykernel)",
   "language": "python",
   "name": "python3"
  },
  "language_info": {
   "codemirror_mode": {
    "name": "ipython",
    "version": 3
   },
   "file_extension": ".py",
   "mimetype": "text/x-python",
   "name": "python",
   "nbconvert_exporter": "python",
   "pygments_lexer": "ipython3",
   "version": "3.12.8"
  }
 },
 "nbformat": 4,
 "nbformat_minor": 5
}
