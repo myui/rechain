{
 "cells": [
  {
   "cell_type": "code",
   "execution_count": 1,
   "id": "27cddd06-2fc7-4a96-aa57-226109f57442",
   "metadata": {},
   "outputs": [],
   "source": [
    "import sys\n",
    "\n",
    "sys.path.append(\"/home/td-user/rtrec\")"
   ]
  },
  {
   "cell_type": "markdown",
   "id": "07765c5e-6af2-47d7-8320-38dc269a7986",
   "metadata": {},
   "source": [
    "# Movielens 1M"
   ]
  },
  {
   "cell_type": "code",
   "execution_count": 2,
   "id": "827b4cc7-1f28-4e44-91e9-6d5cd8cde4dc",
   "metadata": {},
   "outputs": [
    {
     "name": "stdout",
     "output_type": "stream",
     "text": [
      "Using existing ratings.dat file.\n"
     ]
    }
   ],
   "source": [
    "from rtrec.experiments.datasets import load_dataset\n",
    "\n",
    "df = load_dataset(name='movielens_1m')"
   ]
  },
  {
   "cell_type": "code",
   "execution_count": 3,
   "id": "c89ffe93-0b31-4cac-a004-8ada940add7b",
   "metadata": {},
   "outputs": [
    {
     "data": {
      "text/html": [
       "<div>\n",
       "<style scoped>\n",
       "    .dataframe tbody tr th:only-of-type {\n",
       "        vertical-align: middle;\n",
       "    }\n",
       "\n",
       "    .dataframe tbody tr th {\n",
       "        vertical-align: top;\n",
       "    }\n",
       "\n",
       "    .dataframe thead th {\n",
       "        text-align: right;\n",
       "    }\n",
       "</style>\n",
       "<table border=\"1\" class=\"dataframe\">\n",
       "  <thead>\n",
       "    <tr style=\"text-align: right;\">\n",
       "      <th></th>\n",
       "      <th>user</th>\n",
       "      <th>item</th>\n",
       "      <th>tstamp</th>\n",
       "      <th>rating</th>\n",
       "    </tr>\n",
       "  </thead>\n",
       "  <tbody>\n",
       "    <tr>\n",
       "      <th>0</th>\n",
       "      <td>1</td>\n",
       "      <td>1193</td>\n",
       "      <td>978300760</td>\n",
       "      <td>5</td>\n",
       "    </tr>\n",
       "    <tr>\n",
       "      <th>1</th>\n",
       "      <td>1</td>\n",
       "      <td>661</td>\n",
       "      <td>978302109</td>\n",
       "      <td>3</td>\n",
       "    </tr>\n",
       "    <tr>\n",
       "      <th>2</th>\n",
       "      <td>1</td>\n",
       "      <td>914</td>\n",
       "      <td>978301968</td>\n",
       "      <td>3</td>\n",
       "    </tr>\n",
       "    <tr>\n",
       "      <th>3</th>\n",
       "      <td>1</td>\n",
       "      <td>3408</td>\n",
       "      <td>978300275</td>\n",
       "      <td>4</td>\n",
       "    </tr>\n",
       "    <tr>\n",
       "      <th>4</th>\n",
       "      <td>1</td>\n",
       "      <td>2355</td>\n",
       "      <td>978824291</td>\n",
       "      <td>5</td>\n",
       "    </tr>\n",
       "    <tr>\n",
       "      <th>...</th>\n",
       "      <td>...</td>\n",
       "      <td>...</td>\n",
       "      <td>...</td>\n",
       "      <td>...</td>\n",
       "    </tr>\n",
       "    <tr>\n",
       "      <th>1000204</th>\n",
       "      <td>6040</td>\n",
       "      <td>1091</td>\n",
       "      <td>956716541</td>\n",
       "      <td>1</td>\n",
       "    </tr>\n",
       "    <tr>\n",
       "      <th>1000205</th>\n",
       "      <td>6040</td>\n",
       "      <td>1094</td>\n",
       "      <td>956704887</td>\n",
       "      <td>5</td>\n",
       "    </tr>\n",
       "    <tr>\n",
       "      <th>1000206</th>\n",
       "      <td>6040</td>\n",
       "      <td>562</td>\n",
       "      <td>956704746</td>\n",
       "      <td>5</td>\n",
       "    </tr>\n",
       "    <tr>\n",
       "      <th>1000207</th>\n",
       "      <td>6040</td>\n",
       "      <td>1096</td>\n",
       "      <td>956715648</td>\n",
       "      <td>4</td>\n",
       "    </tr>\n",
       "    <tr>\n",
       "      <th>1000208</th>\n",
       "      <td>6040</td>\n",
       "      <td>1097</td>\n",
       "      <td>956715569</td>\n",
       "      <td>4</td>\n",
       "    </tr>\n",
       "  </tbody>\n",
       "</table>\n",
       "<p>1000209 rows × 4 columns</p>\n",
       "</div>"
      ],
      "text/plain": [
       "         user  item     tstamp  rating\n",
       "0           1  1193  978300760       5\n",
       "1           1   661  978302109       3\n",
       "2           1   914  978301968       3\n",
       "3           1  3408  978300275       4\n",
       "4           1  2355  978824291       5\n",
       "...       ...   ...        ...     ...\n",
       "1000204  6040  1091  956716541       1\n",
       "1000205  6040  1094  956704887       5\n",
       "1000206  6040   562  956704746       5\n",
       "1000207  6040  1096  956715648       4\n",
       "1000208  6040  1097  956715569       4\n",
       "\n",
       "[1000209 rows x 4 columns]"
      ]
     },
     "execution_count": 3,
     "metadata": {},
     "output_type": "execute_result"
    }
   ],
   "source": [
    "df[['user', 'item', 'tstamp', 'rating']]"
   ]
  },
  {
   "cell_type": "code",
   "execution_count": 4,
   "id": "aa0bfa94-4007-4295-81aa-6b55489139e3",
   "metadata": {},
   "outputs": [],
   "source": [
    "# from rtrec.experiments.split import leave_one_last_item\n",
    "# train_df, test_df = leave_one_last_item(df)\n",
    "\n",
    "from rtrec.experiments.split import temporal_user_split\n",
    "train_df, test_df = temporal_user_split(df)\n",
    "\n",
    "#from rtrec.experiments.split import random_split\n",
    "#train_df, test_df = random_split(df)"
   ]
  },
  {
   "cell_type": "code",
   "execution_count": 5,
   "id": "6a6f03d6-b204-4f71-adae-d190de5e37f8",
   "metadata": {},
   "outputs": [
    {
     "data": {
      "text/html": [
       "<div>\n",
       "<style scoped>\n",
       "    .dataframe tbody tr th:only-of-type {\n",
       "        vertical-align: middle;\n",
       "    }\n",
       "\n",
       "    .dataframe tbody tr th {\n",
       "        vertical-align: top;\n",
       "    }\n",
       "\n",
       "    .dataframe thead th {\n",
       "        text-align: right;\n",
       "    }\n",
       "</style>\n",
       "<table border=\"1\" class=\"dataframe\">\n",
       "  <thead>\n",
       "    <tr style=\"text-align: right;\">\n",
       "      <th></th>\n",
       "      <th>user</th>\n",
       "      <th>item</th>\n",
       "      <th>rating</th>\n",
       "      <th>tstamp</th>\n",
       "    </tr>\n",
       "  </thead>\n",
       "  <tbody>\n",
       "    <tr>\n",
       "      <th>0</th>\n",
       "      <td>6040</td>\n",
       "      <td>858</td>\n",
       "      <td>4</td>\n",
       "      <td>956703932</td>\n",
       "    </tr>\n",
       "    <tr>\n",
       "      <th>1</th>\n",
       "      <td>6040</td>\n",
       "      <td>593</td>\n",
       "      <td>5</td>\n",
       "      <td>956703954</td>\n",
       "    </tr>\n",
       "    <tr>\n",
       "      <th>2</th>\n",
       "      <td>6040</td>\n",
       "      <td>2384</td>\n",
       "      <td>4</td>\n",
       "      <td>956703954</td>\n",
       "    </tr>\n",
       "    <tr>\n",
       "      <th>3</th>\n",
       "      <td>6040</td>\n",
       "      <td>1961</td>\n",
       "      <td>4</td>\n",
       "      <td>956703977</td>\n",
       "    </tr>\n",
       "    <tr>\n",
       "      <th>4</th>\n",
       "      <td>6040</td>\n",
       "      <td>2019</td>\n",
       "      <td>5</td>\n",
       "      <td>956703977</td>\n",
       "    </tr>\n",
       "    <tr>\n",
       "      <th>...</th>\n",
       "      <td>...</td>\n",
       "      <td>...</td>\n",
       "      <td>...</td>\n",
       "      <td>...</td>\n",
       "    </tr>\n",
       "    <tr>\n",
       "      <th>797753</th>\n",
       "      <td>736</td>\n",
       "      <td>1278</td>\n",
       "      <td>4</td>\n",
       "      <td>1045711206</td>\n",
       "    </tr>\n",
       "    <tr>\n",
       "      <th>797754</th>\n",
       "      <td>736</td>\n",
       "      <td>3671</td>\n",
       "      <td>4</td>\n",
       "      <td>1045711217</td>\n",
       "    </tr>\n",
       "    <tr>\n",
       "      <th>797755</th>\n",
       "      <td>3840</td>\n",
       "      <td>1196</td>\n",
       "      <td>3</td>\n",
       "      <td>1046106127</td>\n",
       "    </tr>\n",
       "    <tr>\n",
       "      <th>797756</th>\n",
       "      <td>3840</td>\n",
       "      <td>1225</td>\n",
       "      <td>3</td>\n",
       "      <td>1046106162</td>\n",
       "    </tr>\n",
       "    <tr>\n",
       "      <th>797757</th>\n",
       "      <td>3840</td>\n",
       "      <td>2502</td>\n",
       "      <td>5</td>\n",
       "      <td>1046106198</td>\n",
       "    </tr>\n",
       "  </tbody>\n",
       "</table>\n",
       "<p>797758 rows × 4 columns</p>\n",
       "</div>"
      ],
      "text/plain": [
       "        user  item  rating      tstamp\n",
       "0       6040   858       4   956703932\n",
       "1       6040   593       5   956703954\n",
       "2       6040  2384       4   956703954\n",
       "3       6040  1961       4   956703977\n",
       "4       6040  2019       5   956703977\n",
       "...      ...   ...     ...         ...\n",
       "797753   736  1278       4  1045711206\n",
       "797754   736  3671       4  1045711217\n",
       "797755  3840  1196       3  1046106127\n",
       "797756  3840  1225       3  1046106162\n",
       "797757  3840  2502       5  1046106198\n",
       "\n",
       "[797758 rows x 4 columns]"
      ]
     },
     "execution_count": 5,
     "metadata": {},
     "output_type": "execute_result"
    }
   ],
   "source": [
    "train_df"
   ]
  },
  {
   "cell_type": "code",
   "execution_count": 6,
   "id": "2fce7c8c-ba85-46aa-8af0-95abed71d265",
   "metadata": {},
   "outputs": [],
   "source": [
    "from rtrec.recommender import Recommender\n",
    "from rtrec.models import SLIM\n",
    "\n",
    "#model = SLIM()\n",
    "# nn_feature_selection is fast\n",
    "model = SLIM(nn_feature_selection=50) \n",
    "\n",
    "recommender = Recommender(model)"
   ]
  },
  {
   "cell_type": "code",
   "execution_count": 7,
   "id": "79f22c5e-c083-4b24-a6c5-f2fd0a3d47e7",
   "metadata": {},
   "outputs": [
    {
     "name": "stderr",
     "output_type": "stream",
     "text": [
      "Add interactions: 100%|██████████████████████████████████████████████████████████████████████████████████████████████████████████████████████████| 798/798 [00:01<00:00, 786.33it/s]\n",
      "Fitting SLIMElastic in parallel: 100%|██████████████████████████████████████████████████████████████████████████████████████████████████████████████| 39/39 [00:02<00:00, 13.76it/s]"
     ]
    },
    {
     "name": "stdout",
     "output_type": "stream",
     "text": [
      "Fit completed in 4.16 seconds\n",
      "Throughput: 191542.61 samples/sec\n"
     ]
    },
    {
     "name": "stderr",
     "output_type": "stream",
     "text": [
      "\n"
     ]
    },
    {
     "data": {
      "text/plain": [
       "<rtrec.recommender.Recommender at 0xffff5cad9bb0>"
      ]
     },
     "execution_count": 7,
     "metadata": {},
     "output_type": "execute_result"
    }
   ],
   "source": [
    "recommender.bulk_fit(train_df)"
   ]
  },
  {
   "cell_type": "code",
   "execution_count": 8,
   "id": "6fcf1cf3-be44-434b-84af-2209e288cd67",
   "metadata": {},
   "outputs": [
    {
     "name": "stderr",
     "output_type": "stream",
     "text": [
      "100%|███████████████████████████████████████████████████████████████████████████████████████████████████████████████████████████████████████████████| 61/61 [00:02<00:00, 22.92it/s]\n"
     ]
    },
    {
     "data": {
      "text/plain": [
       "{'precision': 0.13175496688742194,\n",
       " 'recall': 0.06754951943786101,\n",
       " 'f1': 0.07296676973664434,\n",
       " 'ndcg': 0.14435388382113157,\n",
       " 'hit_rate': 0.6355960264900662,\n",
       " 'mrr': 0.2869143540418358,\n",
       " 'map': 0.06889065511230252,\n",
       " 'tp': 7958,\n",
       " 'auc': 0.3382415576053828}"
      ]
     },
     "execution_count": 8,
     "metadata": {},
     "output_type": "execute_result"
    }
   ],
   "source": [
    "recommender.evaluate(test_df, recommend_size=10, filter_interacted=True)"
   ]
  },
  {
   "cell_type": "code",
   "execution_count": 9,
   "id": "173585bc-b3a3-4942-8b49-9b5ab73653b5",
   "metadata": {},
   "outputs": [
    {
     "data": {
      "text/plain": [
       "[1136, 595, 260, 1035, 2797, 1304, 2406, 1259, 34, 3421]"
      ]
     },
     "execution_count": 9,
     "metadata": {},
     "output_type": "execute_result"
    }
   ],
   "source": [
    "recommender.model._recommend(10, top_k=10, filter_interacted=True)"
   ]
  },
  {
   "cell_type": "markdown",
   "id": "f9c1259c-a295-40ba-8226-13530c055b6e",
   "metadata": {},
   "source": [
    "# test partial_fit"
   ]
  },
  {
   "cell_type": "code",
   "execution_count": 10,
   "id": "95230198-342e-4d37-8e0c-21c225455e04",
   "metadata": {},
   "outputs": [],
   "source": [
    "from rtrec.experiments.split import temporal_split\n",
    "\n",
    "test_df1, test_df2 = temporal_split(test_df, test_frac=0.5)"
   ]
  },
  {
   "cell_type": "code",
   "execution_count": 11,
   "id": "4006e492-dbae-40fb-a657-c9c434973784",
   "metadata": {},
   "outputs": [],
   "source": [
    "from rtrec.recommender import Recommender\n",
    "from rtrec.models import SLIM\n",
    "\n",
    "model = SLIM(nn_feature_selection=50)\n",
    "recommender = Recommender(model)"
   ]
  },
  {
   "cell_type": "code",
   "execution_count": 12,
   "id": "b683f810-9eed-4492-a2d4-c137e3a8c0b1",
   "metadata": {},
   "outputs": [
    {
     "name": "stderr",
     "output_type": "stream",
     "text": [
      "Add interactions: 100%|██████████████████████████████████████████████████████████████████████████████████████████████████████████████████████████| 798/798 [00:01<00:00, 766.56it/s]\n",
      "Fitting SLIMElastic in parallel: 100%|██████████████████████████████████████████████████████████████████████████████████████████████████████████████| 39/39 [00:02<00:00, 13.71it/s]"
     ]
    },
    {
     "name": "stdout",
     "output_type": "stream",
     "text": [
      "Fit completed in 4.13 seconds\n",
      "Throughput: 193001.08 samples/sec\n"
     ]
    },
    {
     "name": "stderr",
     "output_type": "stream",
     "text": [
      "\n"
     ]
    },
    {
     "data": {
      "text/plain": [
       "<rtrec.recommender.Recommender at 0xffff5b62be30>"
      ]
     },
     "execution_count": 12,
     "metadata": {},
     "output_type": "execute_result"
    }
   ],
   "source": [
    "recommender.bulk_fit(train_df)"
   ]
  },
  {
   "cell_type": "markdown",
   "id": "71d98765-6429-4288-a532-4f26539c9262",
   "metadata": {},
   "source": [
    "### Note test_df1 is not fit"
   ]
  },
  {
   "cell_type": "code",
   "execution_count": 13,
   "id": "afa4a9b1-9d94-444f-a1c8-5f49b89bd3f4",
   "metadata": {},
   "outputs": [
    {
     "name": "stderr",
     "output_type": "stream",
     "text": [
      "100%|███████████████████████████████████████████████████████████████████████████████████████████████████████████████████████████████████████████████| 29/29 [00:01<00:00, 22.15it/s]\n"
     ]
    },
    {
     "data": {
      "text/plain": [
       "{'precision': 0.14262763298821884,\n",
       " 'recall': 0.067444457267907,\n",
       " 'f1': 0.07371692361779726,\n",
       " 'ndcg': 0.156132882438022,\n",
       " 'hit_rate': 0.6522670474830418,\n",
       " 'mrr': 0.3037711871610482,\n",
       " 'map': 0.07673687338925943,\n",
       " 'tp': 3995,\n",
       " 'auc': 0.3510598397397755}"
      ]
     },
     "execution_count": 13,
     "metadata": {},
     "output_type": "execute_result"
    }
   ],
   "source": [
    "recommender.evaluate(test_df2, recommend_size=10, filter_interacted=True)"
   ]
  },
  {
   "cell_type": "markdown",
   "id": "7662b3e8-d443-44df-9afc-c163b1c0d91a",
   "metadata": {},
   "source": [
    "### Fit test_df1"
   ]
  },
  {
   "cell_type": "code",
   "execution_count": 14,
   "id": "f7924944-1a59-4381-9526-6ba3b3a1ee9f",
   "metadata": {},
   "outputs": [
    {
     "name": "stderr",
     "output_type": "stream",
     "text": [
      "Add interactions: 100%|██████████████████████████████████████████████████████████████████████████████████████████████████████████████████████████| 102/102 [00:00<00:00, 916.59it/s]\n",
      "Fitting SLIMElastic in parallel: 100%|██████████████████████████████████████████████████████████████████████████████████████████████████████████████| 39/39 [00:02<00:00, 14.28it/s]"
     ]
    },
    {
     "name": "stdout",
     "output_type": "stream",
     "text": [
      "Fit completed in 11.81 seconds\n",
      "Throughput: 8574.39 samples/sec\n"
     ]
    },
    {
     "name": "stderr",
     "output_type": "stream",
     "text": [
      "\n"
     ]
    },
    {
     "data": {
      "text/plain": [
       "<rtrec.recommender.Recommender at 0xffff5b62be30>"
      ]
     },
     "execution_count": 14,
     "metadata": {},
     "output_type": "execute_result"
    }
   ],
   "source": [
    "recommender.fit(test_df1, update_interaction=True, parallel=True)"
   ]
  },
  {
   "cell_type": "code",
   "execution_count": 15,
   "id": "f9eeb6b6-a6e0-4a03-99cf-8eaf0f8f7997",
   "metadata": {},
   "outputs": [
    {
     "name": "stderr",
     "output_type": "stream",
     "text": [
      "100%|███████████████████████████████████████████████████████████████████████████████████████████████████████████████████████████████████████████████| 29/29 [00:01<00:00, 24.52it/s]\n"
     ]
    },
    {
     "data": {
      "text/plain": [
       "{'precision': 0.1460906818993221,\n",
       " 'recall': 0.07070990690805568,\n",
       " 'f1': 0.07688306714352752,\n",
       " 'ndcg': 0.16107445337996862,\n",
       " 'hit_rate': 0.6644055694394859,\n",
       " 'mrr': 0.31611938480021357,\n",
       " 'map': 0.07922980448079897,\n",
       " 'tp': 4092,\n",
       " 'auc': 0.3609835772938236}"
      ]
     },
     "execution_count": 15,
     "metadata": {},
     "output_type": "execute_result"
    }
   ],
   "source": [
    "recommender.evaluate(test_df2, recommend_size=10, filter_interacted=True)"
   ]
  }
 ],
 "metadata": {
  "kernelspec": {
   "display_name": "Python 3 (ipykernel)",
   "language": "python",
   "name": "python3"
  },
  "language_info": {
   "codemirror_mode": {
    "name": "ipython",
    "version": 3
   },
   "file_extension": ".py",
   "mimetype": "text/x-python",
   "name": "python",
   "nbconvert_exporter": "python",
   "pygments_lexer": "ipython3",
   "version": "3.12.8"
  }
 },
 "nbformat": 4,
 "nbformat_minor": 5
}
