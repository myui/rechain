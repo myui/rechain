{
 "cells": [
  {
   "cell_type": "code",
   "execution_count": 1,
   "id": "27cddd06-2fc7-4a96-aa57-226109f57442",
   "metadata": {},
   "outputs": [],
   "source": [
    "import sys\n",
    "\n",
    "sys.path.append(\"/home/td-user/rtrec\")"
   ]
  },
  {
   "cell_type": "markdown",
   "id": "07765c5e-6af2-47d7-8320-38dc269a7986",
   "metadata": {},
   "source": [
    "# Movielens 1M"
   ]
  },
  {
   "cell_type": "code",
   "execution_count": 2,
   "id": "827b4cc7-1f28-4e44-91e9-6d5cd8cde4dc",
   "metadata": {},
   "outputs": [
    {
     "name": "stdout",
     "output_type": "stream",
     "text": [
      "Using existing ratings.dat file.\n"
     ]
    }
   ],
   "source": [
    "from rtrec.experiments.datasets import load_dataset\n",
    "\n",
    "df = load_dataset(name='movielens_1m')"
   ]
  },
  {
   "cell_type": "code",
   "execution_count": 3,
   "id": "c89ffe93-0b31-4cac-a004-8ada940add7b",
   "metadata": {},
   "outputs": [
    {
     "data": {
      "text/html": [
       "<div>\n",
       "<style scoped>\n",
       "    .dataframe tbody tr th:only-of-type {\n",
       "        vertical-align: middle;\n",
       "    }\n",
       "\n",
       "    .dataframe tbody tr th {\n",
       "        vertical-align: top;\n",
       "    }\n",
       "\n",
       "    .dataframe thead th {\n",
       "        text-align: right;\n",
       "    }\n",
       "</style>\n",
       "<table border=\"1\" class=\"dataframe\">\n",
       "  <thead>\n",
       "    <tr style=\"text-align: right;\">\n",
       "      <th></th>\n",
       "      <th>user</th>\n",
       "      <th>item</th>\n",
       "      <th>tstamp</th>\n",
       "      <th>rating</th>\n",
       "    </tr>\n",
       "  </thead>\n",
       "  <tbody>\n",
       "    <tr>\n",
       "      <th>0</th>\n",
       "      <td>1</td>\n",
       "      <td>1193</td>\n",
       "      <td>978300760</td>\n",
       "      <td>5</td>\n",
       "    </tr>\n",
       "    <tr>\n",
       "      <th>1</th>\n",
       "      <td>1</td>\n",
       "      <td>661</td>\n",
       "      <td>978302109</td>\n",
       "      <td>3</td>\n",
       "    </tr>\n",
       "    <tr>\n",
       "      <th>2</th>\n",
       "      <td>1</td>\n",
       "      <td>914</td>\n",
       "      <td>978301968</td>\n",
       "      <td>3</td>\n",
       "    </tr>\n",
       "    <tr>\n",
       "      <th>3</th>\n",
       "      <td>1</td>\n",
       "      <td>3408</td>\n",
       "      <td>978300275</td>\n",
       "      <td>4</td>\n",
       "    </tr>\n",
       "    <tr>\n",
       "      <th>4</th>\n",
       "      <td>1</td>\n",
       "      <td>2355</td>\n",
       "      <td>978824291</td>\n",
       "      <td>5</td>\n",
       "    </tr>\n",
       "    <tr>\n",
       "      <th>...</th>\n",
       "      <td>...</td>\n",
       "      <td>...</td>\n",
       "      <td>...</td>\n",
       "      <td>...</td>\n",
       "    </tr>\n",
       "    <tr>\n",
       "      <th>1000204</th>\n",
       "      <td>6040</td>\n",
       "      <td>1091</td>\n",
       "      <td>956716541</td>\n",
       "      <td>1</td>\n",
       "    </tr>\n",
       "    <tr>\n",
       "      <th>1000205</th>\n",
       "      <td>6040</td>\n",
       "      <td>1094</td>\n",
       "      <td>956704887</td>\n",
       "      <td>5</td>\n",
       "    </tr>\n",
       "    <tr>\n",
       "      <th>1000206</th>\n",
       "      <td>6040</td>\n",
       "      <td>562</td>\n",
       "      <td>956704746</td>\n",
       "      <td>5</td>\n",
       "    </tr>\n",
       "    <tr>\n",
       "      <th>1000207</th>\n",
       "      <td>6040</td>\n",
       "      <td>1096</td>\n",
       "      <td>956715648</td>\n",
       "      <td>4</td>\n",
       "    </tr>\n",
       "    <tr>\n",
       "      <th>1000208</th>\n",
       "      <td>6040</td>\n",
       "      <td>1097</td>\n",
       "      <td>956715569</td>\n",
       "      <td>4</td>\n",
       "    </tr>\n",
       "  </tbody>\n",
       "</table>\n",
       "<p>1000209 rows × 4 columns</p>\n",
       "</div>"
      ],
      "text/plain": [
       "         user  item     tstamp  rating\n",
       "0           1  1193  978300760       5\n",
       "1           1   661  978302109       3\n",
       "2           1   914  978301968       3\n",
       "3           1  3408  978300275       4\n",
       "4           1  2355  978824291       5\n",
       "...       ...   ...        ...     ...\n",
       "1000204  6040  1091  956716541       1\n",
       "1000205  6040  1094  956704887       5\n",
       "1000206  6040   562  956704746       5\n",
       "1000207  6040  1096  956715648       4\n",
       "1000208  6040  1097  956715569       4\n",
       "\n",
       "[1000209 rows x 4 columns]"
      ]
     },
     "execution_count": 3,
     "metadata": {},
     "output_type": "execute_result"
    }
   ],
   "source": [
    "df[['user', 'item', 'tstamp', 'rating']]"
   ]
  },
  {
   "cell_type": "code",
   "execution_count": 4,
   "id": "aa0bfa94-4007-4295-81aa-6b55489139e3",
   "metadata": {},
   "outputs": [],
   "source": [
    "# from rtrec.experiments.split import leave_one_last_item\n",
    "# train_df, test_df = leave_one_last_item(df)\n",
    "\n",
    "from rtrec.experiments.split import temporal_user_split\n",
    "train_df, test_df = temporal_user_split(df)\n",
    "\n",
    "#from rtrec.experiments.split import random_split\n",
    "#train_df, test_df = random_split(df)"
   ]
  },
  {
   "cell_type": "code",
   "execution_count": 5,
   "id": "6a6f03d6-b204-4f71-adae-d190de5e37f8",
   "metadata": {},
   "outputs": [
    {
     "data": {
      "text/html": [
       "<div>\n",
       "<style scoped>\n",
       "    .dataframe tbody tr th:only-of-type {\n",
       "        vertical-align: middle;\n",
       "    }\n",
       "\n",
       "    .dataframe tbody tr th {\n",
       "        vertical-align: top;\n",
       "    }\n",
       "\n",
       "    .dataframe thead th {\n",
       "        text-align: right;\n",
       "    }\n",
       "</style>\n",
       "<table border=\"1\" class=\"dataframe\">\n",
       "  <thead>\n",
       "    <tr style=\"text-align: right;\">\n",
       "      <th></th>\n",
       "      <th>user</th>\n",
       "      <th>item</th>\n",
       "      <th>rating</th>\n",
       "      <th>tstamp</th>\n",
       "    </tr>\n",
       "  </thead>\n",
       "  <tbody>\n",
       "    <tr>\n",
       "      <th>0</th>\n",
       "      <td>6040</td>\n",
       "      <td>858</td>\n",
       "      <td>4</td>\n",
       "      <td>956703932</td>\n",
       "    </tr>\n",
       "    <tr>\n",
       "      <th>1</th>\n",
       "      <td>6040</td>\n",
       "      <td>593</td>\n",
       "      <td>5</td>\n",
       "      <td>956703954</td>\n",
       "    </tr>\n",
       "    <tr>\n",
       "      <th>2</th>\n",
       "      <td>6040</td>\n",
       "      <td>2384</td>\n",
       "      <td>4</td>\n",
       "      <td>956703954</td>\n",
       "    </tr>\n",
       "    <tr>\n",
       "      <th>3</th>\n",
       "      <td>6040</td>\n",
       "      <td>1961</td>\n",
       "      <td>4</td>\n",
       "      <td>956703977</td>\n",
       "    </tr>\n",
       "    <tr>\n",
       "      <th>4</th>\n",
       "      <td>6040</td>\n",
       "      <td>2019</td>\n",
       "      <td>5</td>\n",
       "      <td>956703977</td>\n",
       "    </tr>\n",
       "    <tr>\n",
       "      <th>...</th>\n",
       "      <td>...</td>\n",
       "      <td>...</td>\n",
       "      <td>...</td>\n",
       "      <td>...</td>\n",
       "    </tr>\n",
       "    <tr>\n",
       "      <th>797753</th>\n",
       "      <td>736</td>\n",
       "      <td>1278</td>\n",
       "      <td>4</td>\n",
       "      <td>1045711206</td>\n",
       "    </tr>\n",
       "    <tr>\n",
       "      <th>797754</th>\n",
       "      <td>736</td>\n",
       "      <td>3671</td>\n",
       "      <td>4</td>\n",
       "      <td>1045711217</td>\n",
       "    </tr>\n",
       "    <tr>\n",
       "      <th>797755</th>\n",
       "      <td>3840</td>\n",
       "      <td>1196</td>\n",
       "      <td>3</td>\n",
       "      <td>1046106127</td>\n",
       "    </tr>\n",
       "    <tr>\n",
       "      <th>797756</th>\n",
       "      <td>3840</td>\n",
       "      <td>1225</td>\n",
       "      <td>3</td>\n",
       "      <td>1046106162</td>\n",
       "    </tr>\n",
       "    <tr>\n",
       "      <th>797757</th>\n",
       "      <td>3840</td>\n",
       "      <td>2502</td>\n",
       "      <td>5</td>\n",
       "      <td>1046106198</td>\n",
       "    </tr>\n",
       "  </tbody>\n",
       "</table>\n",
       "<p>797758 rows × 4 columns</p>\n",
       "</div>"
      ],
      "text/plain": [
       "        user  item  rating      tstamp\n",
       "0       6040   858       4   956703932\n",
       "1       6040   593       5   956703954\n",
       "2       6040  2384       4   956703954\n",
       "3       6040  1961       4   956703977\n",
       "4       6040  2019       5   956703977\n",
       "...      ...   ...     ...         ...\n",
       "797753   736  1278       4  1045711206\n",
       "797754   736  3671       4  1045711217\n",
       "797755  3840  1196       3  1046106127\n",
       "797756  3840  1225       3  1046106162\n",
       "797757  3840  2502       5  1046106198\n",
       "\n",
       "[797758 rows x 4 columns]"
      ]
     },
     "execution_count": 5,
     "metadata": {},
     "output_type": "execute_result"
    }
   ],
   "source": [
    "train_df"
   ]
  },
  {
   "cell_type": "markdown",
   "id": "6b68f4f7-bef5-44b9-92f8-ace007d0adea",
   "metadata": {},
   "source": [
    "# SLIM (Sparse Linear Methods)"
   ]
  },
  {
   "cell_type": "code",
   "execution_count": 6,
   "id": "2fce7c8c-ba85-46aa-8af0-95abed71d265",
   "metadata": {},
   "outputs": [],
   "source": [
    "from rtrec.recommender import Recommender\n",
    "from rtrec.models import SLIM\n",
    "\n",
    "#model = SLIM()\n",
    "# nn_feature_selection is fast\n",
    "model = SLIM(nn_feature_selection=50) \n",
    "\n",
    "recommender = Recommender(model)"
   ]
  },
  {
   "cell_type": "code",
   "execution_count": 7,
   "id": "79f22c5e-c083-4b24-a6c5-f2fd0a3d47e7",
   "metadata": {},
   "outputs": [
    {
     "name": "stderr",
     "output_type": "stream",
     "text": [
      "Add interactions: 100%|████████████████████████████████████████████████████████████████████████████████████| 798/798 [00:01<00:00, 411.58it/s]\n",
      "Fitting SLIMElastic in parallel: 100%|████████████████████████████████████████████████████████████████████████| 39/39 [00:05<00:00,  7.36it/s]"
     ]
    },
    {
     "name": "stdout",
     "output_type": "stream",
     "text": [
      "Fit completed in 7.70 seconds\n",
      "Throughput: 103586.26 samples/sec\n"
     ]
    },
    {
     "name": "stderr",
     "output_type": "stream",
     "text": [
      "\n"
     ]
    },
    {
     "data": {
      "text/plain": [
       "<rtrec.recommender.Recommender at 0xffff56d25e20>"
      ]
     },
     "execution_count": 7,
     "metadata": {},
     "output_type": "execute_result"
    }
   ],
   "source": [
    "recommender.bulk_fit(train_df)"
   ]
  },
  {
   "cell_type": "code",
   "execution_count": 8,
   "id": "6fcf1cf3-be44-434b-84af-2209e288cd67",
   "metadata": {},
   "outputs": [
    {
     "name": "stderr",
     "output_type": "stream",
     "text": [
      "100%|█████████████████████████████████████████████████████████████████████████████████████████████████████████| 61/61 [00:06<00:00,  8.86it/s]\n"
     ]
    },
    {
     "data": {
      "text/plain": [
       "{'precision': 0.13187086092715705,\n",
       " 'recall': 0.06753560170555596,\n",
       " 'f1': 0.07295727145848262,\n",
       " 'ndcg': 0.14443232260780747,\n",
       " 'hit_rate': 0.6349337748344371,\n",
       " 'mrr': 0.2873341085882459,\n",
       " 'map': 0.0689205770424432,\n",
       " 'tp': 7965,\n",
       " 'auc': 0.3372786581520036}"
      ]
     },
     "execution_count": 8,
     "metadata": {},
     "output_type": "execute_result"
    }
   ],
   "source": [
    "recommender.evaluate(test_df, recommend_size=10, filter_interacted=True)"
   ]
  },
  {
   "cell_type": "code",
   "execution_count": 9,
   "id": "173585bc-b3a3-4942-8b49-9b5ab73653b5",
   "metadata": {},
   "outputs": [
    {
     "data": {
      "text/plain": [
       "[1136, 595, 260, 1394, 1035, 2797, 1304, 2406, 1259, 34]"
      ]
     },
     "execution_count": 9,
     "metadata": {},
     "output_type": "execute_result"
    }
   ],
   "source": [
    "recommender.model._recommend(10, top_k=10, filter_interacted=True)"
   ]
  },
  {
   "cell_type": "markdown",
   "id": "f9c1259c-a295-40ba-8226-13530c055b6e",
   "metadata": {},
   "source": [
    "# test partial_fit"
   ]
  },
  {
   "cell_type": "code",
   "execution_count": 10,
   "id": "95230198-342e-4d37-8e0c-21c225455e04",
   "metadata": {},
   "outputs": [],
   "source": [
    "from rtrec.experiments.split import temporal_split\n",
    "\n",
    "test_df1, test_df2 = temporal_split(test_df, test_frac=0.5)"
   ]
  },
  {
   "cell_type": "code",
   "execution_count": 11,
   "id": "4006e492-dbae-40fb-a657-c9c434973784",
   "metadata": {},
   "outputs": [],
   "source": [
    "from rtrec.recommender import Recommender\n",
    "from rtrec.models import SLIM\n",
    "\n",
    "model = SLIM(nn_feature_selection=50)\n",
    "recommender = Recommender(model)"
   ]
  },
  {
   "cell_type": "code",
   "execution_count": 12,
   "id": "b683f810-9eed-4492-a2d4-c137e3a8c0b1",
   "metadata": {},
   "outputs": [
    {
     "name": "stderr",
     "output_type": "stream",
     "text": [
      "Add interactions: 100%|████████████████████████████████████████████████████████████████████████████████████| 798/798 [00:01<00:00, 413.18it/s]\n",
      "Fitting SLIMElastic in parallel: 100%|████████████████████████████████████████████████████████████████████████| 39/39 [00:05<00:00,  7.66it/s]"
     ]
    },
    {
     "name": "stdout",
     "output_type": "stream",
     "text": [
      "Fit completed in 7.42 seconds\n",
      "Throughput: 107458.90 samples/sec\n"
     ]
    },
    {
     "name": "stderr",
     "output_type": "stream",
     "text": [
      "\n"
     ]
    },
    {
     "data": {
      "text/plain": [
       "<rtrec.recommender.Recommender at 0xffff5550f7a0>"
      ]
     },
     "execution_count": 12,
     "metadata": {},
     "output_type": "execute_result"
    }
   ],
   "source": [
    "recommender.bulk_fit(train_df)"
   ]
  },
  {
   "cell_type": "markdown",
   "id": "71d98765-6429-4288-a532-4f26539c9262",
   "metadata": {},
   "source": [
    "### Note test_df1 is not fit"
   ]
  },
  {
   "cell_type": "code",
   "execution_count": 13,
   "id": "afa4a9b1-9d94-444f-a1c8-5f49b89bd3f4",
   "metadata": {},
   "outputs": [
    {
     "name": "stderr",
     "output_type": "stream",
     "text": [
      "100%|█████████████████████████████████████████████████████████████████████████████████████████████████████████| 29/29 [00:03<00:00,  8.39it/s]\n"
     ]
    },
    {
     "data": {
      "text/plain": [
       "{'precision': 0.1423777222420567,\n",
       " 'recall': 0.06746896811273603,\n",
       " 'f1': 0.07364132623888481,\n",
       " 'ndcg': 0.15607206466519727,\n",
       " 'hit_rate': 0.6511960014280614,\n",
       " 'mrr': 0.30404773238582605,\n",
       " 'map': 0.07677367643012346,\n",
       " 'tp': 3988,\n",
       " 'auc': 0.3515945977343692}"
      ]
     },
     "execution_count": 13,
     "metadata": {},
     "output_type": "execute_result"
    }
   ],
   "source": [
    "recommender.evaluate(test_df2, recommend_size=10, filter_interacted=True)"
   ]
  },
  {
   "cell_type": "markdown",
   "id": "7662b3e8-d443-44df-9afc-c163b1c0d91a",
   "metadata": {},
   "source": [
    "### Fit test_df1"
   ]
  },
  {
   "cell_type": "code",
   "execution_count": 14,
   "id": "f7924944-1a59-4381-9526-6ba3b3a1ee9f",
   "metadata": {},
   "outputs": [
    {
     "name": "stderr",
     "output_type": "stream",
     "text": [
      "Add interactions: 100%|████████████████████████████████████████████████████████████████████████████████████| 102/102 [00:00<00:00, 471.08it/s]\n",
      "Fitting SLIMElastic in parallel: 100%|████████████████████████████████████████████████████████████████████████| 39/39 [00:04<00:00,  8.07it/s]"
     ]
    },
    {
     "name": "stdout",
     "output_type": "stream",
     "text": [
      "Fit completed in 20.32 seconds\n",
      "Throughput: 4980.58 samples/sec\n"
     ]
    },
    {
     "name": "stderr",
     "output_type": "stream",
     "text": [
      "\n"
     ]
    },
    {
     "data": {
      "text/plain": [
       "<rtrec.recommender.Recommender at 0xffff5550f7a0>"
      ]
     },
     "execution_count": 14,
     "metadata": {},
     "output_type": "execute_result"
    }
   ],
   "source": [
    "recommender.fit(test_df1, update_interaction=True, parallel=True)"
   ]
  },
  {
   "cell_type": "code",
   "execution_count": 15,
   "id": "f9eeb6b6-a6e0-4a03-99cf-8eaf0f8f7997",
   "metadata": {},
   "outputs": [
    {
     "name": "stderr",
     "output_type": "stream",
     "text": [
      "100%|█████████████████████████████████████████████████████████████████████████████████████████████████████████| 29/29 [00:03<00:00,  8.21it/s]\n"
     ]
    },
    {
     "data": {
      "text/plain": [
       "{'precision': 0.14623348803998612,\n",
       " 'recall': 0.07076125439505432,\n",
       " 'f1': 0.07699598570870538,\n",
       " 'ndcg': 0.1611090192445629,\n",
       " 'hit_rate': 0.6636915387361657,\n",
       " 'mrr': 0.3154465808696444,\n",
       " 'map': 0.07936593805941061,\n",
       " 'tp': 4096,\n",
       " 'auc': 0.36074509953928036}"
      ]
     },
     "execution_count": 15,
     "metadata": {},
     "output_type": "execute_result"
    }
   ],
   "source": [
    "recommender.evaluate(test_df2, recommend_size=10, filter_interacted=True)"
   ]
  },
  {
   "cell_type": "markdown",
   "id": "fea00888-950c-4020-a5ed-8e6bfebae585",
   "metadata": {},
   "source": [
    "# LightFM (Factorization Machines)"
   ]
  },
  {
   "cell_type": "code",
   "execution_count": 51,
   "id": "2fa4b3f5-718b-4d48-9c3e-81dd7da1f66c",
   "metadata": {},
   "outputs": [],
   "source": [
    "from rtrec.models import LightFM\n",
    "\n",
    "model = LightFM(no_components=10, loss=\"warp\", epochs=20, item_alpha=0, user_alpha=0)\n",
    "recommender = Recommender(model)"
   ]
  },
  {
   "cell_type": "code",
   "execution_count": 52,
   "id": "0a1a4a92-4a92-46fa-bc49-ea162fd12f2f",
   "metadata": {},
   "outputs": [
    {
     "name": "stderr",
     "output_type": "stream",
     "text": [
      "Add interactions: 100%|████████████████████████████████████████████████████████████████████████████████████| 798/798 [00:02<00:00, 387.24it/s]\n"
     ]
    },
    {
     "name": "stdout",
     "output_type": "stream",
     "text": [
      "Fit completed in 10.43 seconds\n",
      "Throughput: 76477.35 samples/sec\n"
     ]
    },
    {
     "data": {
      "text/plain": [
       "<rtrec.recommender.Recommender at 0xffff46844bc0>"
      ]
     },
     "execution_count": 52,
     "metadata": {},
     "output_type": "execute_result"
    }
   ],
   "source": [
    "recommender.bulk_fit(train_df)"
   ]
  },
  {
   "cell_type": "code",
   "execution_count": 53,
   "id": "fcefa4d0-29a4-471e-a7bf-30d99223e750",
   "metadata": {},
   "outputs": [
    {
     "name": "stderr",
     "output_type": "stream",
     "text": [
      "100%|█████████████████████████████████████████████████████████████████████████████████████████████████████████| 61/61 [00:00<00:00, 67.64it/s]\n"
     ]
    },
    {
     "data": {
      "text/plain": [
       "{'precision': 0.04360927152317792,\n",
       " 'recall': 0.02341324911270315,\n",
       " 'f1': 0.025827257137960326,\n",
       " 'ndcg': 0.04540425122885596,\n",
       " 'hit_rate': 0.3021523178807947,\n",
       " 'mrr': 0.10396569168506267,\n",
       " 'map': 0.01669777306618011,\n",
       " 'tp': 2634,\n",
       " 'auc': 0.14738366577315234}"
      ]
     },
     "execution_count": 53,
     "metadata": {},
     "output_type": "execute_result"
    }
   ],
   "source": [
    "recommender.evaluate(test_df, recommend_size=10, filter_interacted=True)"
   ]
  },
  {
   "cell_type": "code",
   "execution_count": 60,
   "id": "80948734-47af-49f4-8a56-c4a198704617",
   "metadata": {},
   "outputs": [
    {
     "data": {
      "text/plain": [
       "[2858, 1210, 260, 480, 1196, 2028, 110, 1580, 593, 1617]"
      ]
     },
     "execution_count": 60,
     "metadata": {},
     "output_type": "execute_result"
    }
   ],
   "source": [
    "recommender.model.recommend(1, top_k=10, filter_interacted=False)"
   ]
  },
  {
   "cell_type": "code",
   "execution_count": 61,
   "id": "f1a8ee48-b4d6-4896-84eb-873c6d5e8184",
   "metadata": {},
   "outputs": [
    {
     "data": {
      "text/plain": [
       "[2858, 1210, 480, 1196, 110, 1580, 593, 1617, 858, 589]"
      ]
     },
     "execution_count": 61,
     "metadata": {},
     "output_type": "execute_result"
    }
   ],
   "source": [
    "recommender.model.recommend(1, top_k=10, filter_interacted=True)"
   ]
  },
  {
   "cell_type": "code",
   "execution_count": 66,
   "id": "ef4a42bf-c5ff-4b48-9510-9e670ec055a7",
   "metadata": {},
   "outputs": [
    {
     "data": {
      "text/plain": [
       "[[2858, 1210, 260, 480, 1196, 2028, 110, 1580, 593, 1617]]"
      ]
     },
     "execution_count": 66,
     "metadata": {},
     "output_type": "execute_result"
    }
   ],
   "source": [
    "recommender.model.recommend_batch([1], top_k=10, filter_interacted=False)"
   ]
  },
  {
   "cell_type": "code",
   "execution_count": 57,
   "id": "5ed20dbc-e559-4db8-85fd-78d5f4039569",
   "metadata": {},
   "outputs": [
    {
     "data": {
      "text/plain": [
       "[2858, 1210, 260, 480, 1196, 2028, 110, 1580, 593, 1617]"
      ]
     },
     "execution_count": 57,
     "metadata": {},
     "output_type": "execute_result"
    }
   ],
   "source": [
    "recommender.model._recommend(2, top_k=10, filter_interacted=False)"
   ]
  },
  {
   "cell_type": "code",
   "execution_count": 58,
   "id": "f2942f73-8548-4116-b7a3-80608e366b67",
   "metadata": {},
   "outputs": [
    {
     "data": {
      "text/plain": [
       "[260, 1580, 1617, 1270, 858, 527, 1197, 2997, 2762, 2628]"
      ]
     },
     "execution_count": 58,
     "metadata": {},
     "output_type": "execute_result"
    }
   ],
   "source": [
    "recommender.model._recommend(2, top_k=10, filter_interacted=True)"
   ]
  },
  {
   "cell_type": "code",
   "execution_count": 59,
   "id": "60a41650-160f-49df-b3f4-64313dfc952f",
   "metadata": {},
   "outputs": [
    {
     "data": {
      "text/plain": [
       "[21,\n",
       " 110,\n",
       " 163,\n",
       " 235,\n",
       " 265,\n",
       " 318,\n",
       " 349,\n",
       " 356,\n",
       " 380,\n",
       " 457,\n",
       " 480,\n",
       " 498,\n",
       " 515,\n",
       " 589,\n",
       " 590,\n",
       " 593,\n",
       " 647,\n",
       " 648,\n",
       " 902,\n",
       " 920,\n",
       " 982,\n",
       " 1084,\n",
       " 1090,\n",
       " 1096,\n",
       " 1103,\n",
       " 1124,\n",
       " 1188,\n",
       " 1193,\n",
       " 1196,\n",
       " 1198,\n",
       " 1207,\n",
       " 1210,\n",
       " 1213,\n",
       " 1217,\n",
       " 1225,\n",
       " 1244,\n",
       " 1245,\n",
       " 1246,\n",
       " 1247,\n",
       " 1253,\n",
       " 1259,\n",
       " 1265,\n",
       " 1293,\n",
       " 1357,\n",
       " 1370,\n",
       " 1408,\n",
       " 1442,\n",
       " 1527,\n",
       " 1537,\n",
       " 1610,\n",
       " 1784,\n",
       " 1834,\n",
       " 1873,\n",
       " 1945,\n",
       " 1953,\n",
       " 1954,\n",
       " 1955,\n",
       " 1957,\n",
       " 1962,\n",
       " 1968,\n",
       " 2006,\n",
       " 2028,\n",
       " 2067,\n",
       " 2194,\n",
       " 2236,\n",
       " 2268,\n",
       " 2278,\n",
       " 2312,\n",
       " 2321,\n",
       " 2353,\n",
       " 2359,\n",
       " 2396,\n",
       " 2427,\n",
       " 2501,\n",
       " 2571,\n",
       " 2717,\n",
       " 2728,\n",
       " 2852,\n",
       " 2858,\n",
       " 2916,\n",
       " 2943,\n",
       " 3030,\n",
       " 3035,\n",
       " 3068,\n",
       " 3071,\n",
       " 3095,\n",
       " 3105,\n",
       " 3108,\n",
       " 3147,\n",
       " 3255,\n",
       " 3256,\n",
       " 3334,\n",
       " 3418,\n",
       " 3451,\n",
       " 3468,\n",
       " 3471,\n",
       " 3578,\n",
       " 3654,\n",
       " 3678,\n",
       " 3699,\n",
       " 3735,\n",
       " 3809,\n",
       " 3893]"
      ]
     },
     "execution_count": 59,
     "metadata": {},
     "output_type": "execute_result"
    }
   ],
   "source": [
    "user1_items = train_df[train_df['user']==2]['item'].tolist()\n",
    "user1_items.sort()\n",
    "\n",
    "user1_items"
   ]
  },
  {
   "cell_type": "code",
   "execution_count": null,
   "id": "8e40a143-f56c-4432-a974-923e107781da",
   "metadata": {},
   "outputs": [],
   "source": []
  }
 ],
 "metadata": {
  "kernelspec": {
   "display_name": "Python 3 (ipykernel)",
   "language": "python",
   "name": "python3"
  },
  "language_info": {
   "codemirror_mode": {
    "name": "ipython",
    "version": 3
   },
   "file_extension": ".py",
   "mimetype": "text/x-python",
   "name": "python",
   "nbconvert_exporter": "python",
   "pygments_lexer": "ipython3",
   "version": "3.12.8"
  }
 },
 "nbformat": 4,
 "nbformat_minor": 5
}
